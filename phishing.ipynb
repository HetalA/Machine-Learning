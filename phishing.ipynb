{
  "nbformat": 4,
  "nbformat_minor": 0,
  "metadata": {
    "colab": {
      "provenance": [],
      "authorship_tag": "ABX9TyP2Ee8kqhFZmX6ltc4Jp/AB",
      "include_colab_link": true
    },
    "kernelspec": {
      "name": "python3",
      "display_name": "Python 3"
    },
    "language_info": {
      "name": "python"
    }
  },
  "cells": [
    {
      "cell_type": "markdown",
      "metadata": {
        "id": "view-in-github",
        "colab_type": "text"
      },
      "source": [
        "<a href=\"https://colab.research.google.com/github/HetalA/Machine-Learning/blob/main/phishing.ipynb\" target=\"_parent\"><img src=\"https://colab.research.google.com/assets/colab-badge.svg\" alt=\"Open In Colab\"/></a>"
      ]
    },
    {
      "cell_type": "code",
      "execution_count": null,
      "metadata": {
        "id": "N5DZQFYiADnu"
      },
      "outputs": [],
      "source": [
        "import pandas as pd\n",
        "import numpy as np\n",
        "import tensorflow as tf\n",
        "from tensorflow.keras import layers\n",
        "import matplotlib.pyplot as plt\n",
        "import seaborn as sns"
      ]
    },
    {
      "cell_type": "code",
      "source": [
        "data = pd.read_csv('dataset_phishing.csv')\n",
        "data.head()"
      ],
      "metadata": {
        "colab": {
          "base_uri": "https://localhost:8080/",
          "height": 334
        },
        "id": "XK8k8aDXBuQh",
        "outputId": "224bb3ab-3489-413f-ffdf-74a9506c34e0"
      },
      "execution_count": null,
      "outputs": [
        {
          "output_type": "execute_result",
          "data": {
            "text/plain": [
              "                                                 url  length_url  \\\n",
              "0              http://www.crestonwood.com/router.php          37   \n",
              "1  http://shadetreetechnology.com/V4/validation/a...          77   \n",
              "2  https://support-appleld.com.secureupdate.duila...         126   \n",
              "3                                 http://rgipt.ac.in          18   \n",
              "4  http://www.iracing.com/tracks/gateway-motorspo...          55   \n",
              "\n",
              "   length_hostname  ip  nb_dots  nb_hyphens  nb_at  nb_qm  nb_and  nb_or  ...  \\\n",
              "0               19   0        3           0      0      0       0      0  ...   \n",
              "1               23   1        1           0      0      0       0      0  ...   \n",
              "2               50   1        4           1      0      1       2      0  ...   \n",
              "3               11   0        2           0      0      0       0      0  ...   \n",
              "4               15   0        2           2      0      0       0      0  ...   \n",
              "\n",
              "   domain_in_title  domain_with_copyright  whois_registered_domain  \\\n",
              "0                0                      1                        0   \n",
              "1                1                      0                        0   \n",
              "2                1                      0                        0   \n",
              "3                1                      0                        0   \n",
              "4                0                      1                        0   \n",
              "\n",
              "   domain_registration_length  domain_age  web_traffic  dns_record  \\\n",
              "0                          45          -1            0           1   \n",
              "1                          77        5767            0           0   \n",
              "2                          14        4004      5828815           0   \n",
              "3                          62          -1       107721           0   \n",
              "4                         224        8175         8725           0   \n",
              "\n",
              "   google_index  page_rank      status  \n",
              "0             1          4  legitimate  \n",
              "1             1          2    phishing  \n",
              "2             1          0    phishing  \n",
              "3             0          3  legitimate  \n",
              "4             0          6  legitimate  \n",
              "\n",
              "[5 rows x 89 columns]"
            ],
            "text/html": [
              "\n",
              "  <div id=\"df-f1a28498-189f-4fe4-bcc8-7af42b8b505f\">\n",
              "    <div class=\"colab-df-container\">\n",
              "      <div>\n",
              "<style scoped>\n",
              "    .dataframe tbody tr th:only-of-type {\n",
              "        vertical-align: middle;\n",
              "    }\n",
              "\n",
              "    .dataframe tbody tr th {\n",
              "        vertical-align: top;\n",
              "    }\n",
              "\n",
              "    .dataframe thead th {\n",
              "        text-align: right;\n",
              "    }\n",
              "</style>\n",
              "<table border=\"1\" class=\"dataframe\">\n",
              "  <thead>\n",
              "    <tr style=\"text-align: right;\">\n",
              "      <th></th>\n",
              "      <th>url</th>\n",
              "      <th>length_url</th>\n",
              "      <th>length_hostname</th>\n",
              "      <th>ip</th>\n",
              "      <th>nb_dots</th>\n",
              "      <th>nb_hyphens</th>\n",
              "      <th>nb_at</th>\n",
              "      <th>nb_qm</th>\n",
              "      <th>nb_and</th>\n",
              "      <th>nb_or</th>\n",
              "      <th>...</th>\n",
              "      <th>domain_in_title</th>\n",
              "      <th>domain_with_copyright</th>\n",
              "      <th>whois_registered_domain</th>\n",
              "      <th>domain_registration_length</th>\n",
              "      <th>domain_age</th>\n",
              "      <th>web_traffic</th>\n",
              "      <th>dns_record</th>\n",
              "      <th>google_index</th>\n",
              "      <th>page_rank</th>\n",
              "      <th>status</th>\n",
              "    </tr>\n",
              "  </thead>\n",
              "  <tbody>\n",
              "    <tr>\n",
              "      <th>0</th>\n",
              "      <td>http://www.crestonwood.com/router.php</td>\n",
              "      <td>37</td>\n",
              "      <td>19</td>\n",
              "      <td>0</td>\n",
              "      <td>3</td>\n",
              "      <td>0</td>\n",
              "      <td>0</td>\n",
              "      <td>0</td>\n",
              "      <td>0</td>\n",
              "      <td>0</td>\n",
              "      <td>...</td>\n",
              "      <td>0</td>\n",
              "      <td>1</td>\n",
              "      <td>0</td>\n",
              "      <td>45</td>\n",
              "      <td>-1</td>\n",
              "      <td>0</td>\n",
              "      <td>1</td>\n",
              "      <td>1</td>\n",
              "      <td>4</td>\n",
              "      <td>legitimate</td>\n",
              "    </tr>\n",
              "    <tr>\n",
              "      <th>1</th>\n",
              "      <td>http://shadetreetechnology.com/V4/validation/a...</td>\n",
              "      <td>77</td>\n",
              "      <td>23</td>\n",
              "      <td>1</td>\n",
              "      <td>1</td>\n",
              "      <td>0</td>\n",
              "      <td>0</td>\n",
              "      <td>0</td>\n",
              "      <td>0</td>\n",
              "      <td>0</td>\n",
              "      <td>...</td>\n",
              "      <td>1</td>\n",
              "      <td>0</td>\n",
              "      <td>0</td>\n",
              "      <td>77</td>\n",
              "      <td>5767</td>\n",
              "      <td>0</td>\n",
              "      <td>0</td>\n",
              "      <td>1</td>\n",
              "      <td>2</td>\n",
              "      <td>phishing</td>\n",
              "    </tr>\n",
              "    <tr>\n",
              "      <th>2</th>\n",
              "      <td>https://support-appleld.com.secureupdate.duila...</td>\n",
              "      <td>126</td>\n",
              "      <td>50</td>\n",
              "      <td>1</td>\n",
              "      <td>4</td>\n",
              "      <td>1</td>\n",
              "      <td>0</td>\n",
              "      <td>1</td>\n",
              "      <td>2</td>\n",
              "      <td>0</td>\n",
              "      <td>...</td>\n",
              "      <td>1</td>\n",
              "      <td>0</td>\n",
              "      <td>0</td>\n",
              "      <td>14</td>\n",
              "      <td>4004</td>\n",
              "      <td>5828815</td>\n",
              "      <td>0</td>\n",
              "      <td>1</td>\n",
              "      <td>0</td>\n",
              "      <td>phishing</td>\n",
              "    </tr>\n",
              "    <tr>\n",
              "      <th>3</th>\n",
              "      <td>http://rgipt.ac.in</td>\n",
              "      <td>18</td>\n",
              "      <td>11</td>\n",
              "      <td>0</td>\n",
              "      <td>2</td>\n",
              "      <td>0</td>\n",
              "      <td>0</td>\n",
              "      <td>0</td>\n",
              "      <td>0</td>\n",
              "      <td>0</td>\n",
              "      <td>...</td>\n",
              "      <td>1</td>\n",
              "      <td>0</td>\n",
              "      <td>0</td>\n",
              "      <td>62</td>\n",
              "      <td>-1</td>\n",
              "      <td>107721</td>\n",
              "      <td>0</td>\n",
              "      <td>0</td>\n",
              "      <td>3</td>\n",
              "      <td>legitimate</td>\n",
              "    </tr>\n",
              "    <tr>\n",
              "      <th>4</th>\n",
              "      <td>http://www.iracing.com/tracks/gateway-motorspo...</td>\n",
              "      <td>55</td>\n",
              "      <td>15</td>\n",
              "      <td>0</td>\n",
              "      <td>2</td>\n",
              "      <td>2</td>\n",
              "      <td>0</td>\n",
              "      <td>0</td>\n",
              "      <td>0</td>\n",
              "      <td>0</td>\n",
              "      <td>...</td>\n",
              "      <td>0</td>\n",
              "      <td>1</td>\n",
              "      <td>0</td>\n",
              "      <td>224</td>\n",
              "      <td>8175</td>\n",
              "      <td>8725</td>\n",
              "      <td>0</td>\n",
              "      <td>0</td>\n",
              "      <td>6</td>\n",
              "      <td>legitimate</td>\n",
              "    </tr>\n",
              "  </tbody>\n",
              "</table>\n",
              "<p>5 rows × 89 columns</p>\n",
              "</div>\n",
              "      <button class=\"colab-df-convert\" onclick=\"convertToInteractive('df-f1a28498-189f-4fe4-bcc8-7af42b8b505f')\"\n",
              "              title=\"Convert this dataframe to an interactive table.\"\n",
              "              style=\"display:none;\">\n",
              "        \n",
              "  <svg xmlns=\"http://www.w3.org/2000/svg\" height=\"24px\"viewBox=\"0 0 24 24\"\n",
              "       width=\"24px\">\n",
              "    <path d=\"M0 0h24v24H0V0z\" fill=\"none\"/>\n",
              "    <path d=\"M18.56 5.44l.94 2.06.94-2.06 2.06-.94-2.06-.94-.94-2.06-.94 2.06-2.06.94zm-11 1L8.5 8.5l.94-2.06 2.06-.94-2.06-.94L8.5 2.5l-.94 2.06-2.06.94zm10 10l.94 2.06.94-2.06 2.06-.94-2.06-.94-.94-2.06-.94 2.06-2.06.94z\"/><path d=\"M17.41 7.96l-1.37-1.37c-.4-.4-.92-.59-1.43-.59-.52 0-1.04.2-1.43.59L10.3 9.45l-7.72 7.72c-.78.78-.78 2.05 0 2.83L4 21.41c.39.39.9.59 1.41.59.51 0 1.02-.2 1.41-.59l7.78-7.78 2.81-2.81c.8-.78.8-2.07 0-2.86zM5.41 20L4 18.59l7.72-7.72 1.47 1.35L5.41 20z\"/>\n",
              "  </svg>\n",
              "      </button>\n",
              "      \n",
              "  <style>\n",
              "    .colab-df-container {\n",
              "      display:flex;\n",
              "      flex-wrap:wrap;\n",
              "      gap: 12px;\n",
              "    }\n",
              "\n",
              "    .colab-df-convert {\n",
              "      background-color: #E8F0FE;\n",
              "      border: none;\n",
              "      border-radius: 50%;\n",
              "      cursor: pointer;\n",
              "      display: none;\n",
              "      fill: #1967D2;\n",
              "      height: 32px;\n",
              "      padding: 0 0 0 0;\n",
              "      width: 32px;\n",
              "    }\n",
              "\n",
              "    .colab-df-convert:hover {\n",
              "      background-color: #E2EBFA;\n",
              "      box-shadow: 0px 1px 2px rgba(60, 64, 67, 0.3), 0px 1px 3px 1px rgba(60, 64, 67, 0.15);\n",
              "      fill: #174EA6;\n",
              "    }\n",
              "\n",
              "    [theme=dark] .colab-df-convert {\n",
              "      background-color: #3B4455;\n",
              "      fill: #D2E3FC;\n",
              "    }\n",
              "\n",
              "    [theme=dark] .colab-df-convert:hover {\n",
              "      background-color: #434B5C;\n",
              "      box-shadow: 0px 1px 3px 1px rgba(0, 0, 0, 0.15);\n",
              "      filter: drop-shadow(0px 1px 2px rgba(0, 0, 0, 0.3));\n",
              "      fill: #FFFFFF;\n",
              "    }\n",
              "  </style>\n",
              "\n",
              "      <script>\n",
              "        const buttonEl =\n",
              "          document.querySelector('#df-f1a28498-189f-4fe4-bcc8-7af42b8b505f button.colab-df-convert');\n",
              "        buttonEl.style.display =\n",
              "          google.colab.kernel.accessAllowed ? 'block' : 'none';\n",
              "\n",
              "        async function convertToInteractive(key) {\n",
              "          const element = document.querySelector('#df-f1a28498-189f-4fe4-bcc8-7af42b8b505f');\n",
              "          const dataTable =\n",
              "            await google.colab.kernel.invokeFunction('convertToInteractive',\n",
              "                                                     [key], {});\n",
              "          if (!dataTable) return;\n",
              "\n",
              "          const docLinkHtml = 'Like what you see? Visit the ' +\n",
              "            '<a target=\"_blank\" href=https://colab.research.google.com/notebooks/data_table.ipynb>data table notebook</a>'\n",
              "            + ' to learn more about interactive tables.';\n",
              "          element.innerHTML = '';\n",
              "          dataTable['output_type'] = 'display_data';\n",
              "          await google.colab.output.renderOutput(dataTable, element);\n",
              "          const docLink = document.createElement('div');\n",
              "          docLink.innerHTML = docLinkHtml;\n",
              "          element.appendChild(docLink);\n",
              "        }\n",
              "      </script>\n",
              "    </div>\n",
              "  </div>\n",
              "  "
            ]
          },
          "metadata": {},
          "execution_count": 2
        }
      ]
    },
    {
      "cell_type": "code",
      "source": [
        "#Encoding 'status' as label 1 & 0 , naming the field as target\n",
        "data['target'] = pd.get_dummies(data['status'])['legitimate'].astype('int')\n",
        "data.drop('status',axis = 1, inplace=True)\n",
        "data.head()"
      ],
      "metadata": {
        "colab": {
          "base_uri": "https://localhost:8080/",
          "height": 334
        },
        "id": "5z967lrWCJ_s",
        "outputId": "5feb020c-3966-45e3-d1f5-51fe7f18013d"
      },
      "execution_count": null,
      "outputs": [
        {
          "output_type": "execute_result",
          "data": {
            "text/plain": [
              "                                                 url  length_url  \\\n",
              "0              http://www.crestonwood.com/router.php          37   \n",
              "1  http://shadetreetechnology.com/V4/validation/a...          77   \n",
              "2  https://support-appleld.com.secureupdate.duila...         126   \n",
              "3                                 http://rgipt.ac.in          18   \n",
              "4  http://www.iracing.com/tracks/gateway-motorspo...          55   \n",
              "\n",
              "   length_hostname  ip  nb_dots  nb_hyphens  nb_at  nb_qm  nb_and  nb_or  ...  \\\n",
              "0               19   0        3           0      0      0       0      0  ...   \n",
              "1               23   1        1           0      0      0       0      0  ...   \n",
              "2               50   1        4           1      0      1       2      0  ...   \n",
              "3               11   0        2           0      0      0       0      0  ...   \n",
              "4               15   0        2           2      0      0       0      0  ...   \n",
              "\n",
              "   domain_in_title  domain_with_copyright  whois_registered_domain  \\\n",
              "0                0                      1                        0   \n",
              "1                1                      0                        0   \n",
              "2                1                      0                        0   \n",
              "3                1                      0                        0   \n",
              "4                0                      1                        0   \n",
              "\n",
              "   domain_registration_length  domain_age  web_traffic  dns_record  \\\n",
              "0                          45          -1            0           1   \n",
              "1                          77        5767            0           0   \n",
              "2                          14        4004      5828815           0   \n",
              "3                          62          -1       107721           0   \n",
              "4                         224        8175         8725           0   \n",
              "\n",
              "   google_index  page_rank  target  \n",
              "0             1          4       1  \n",
              "1             1          2       0  \n",
              "2             1          0       0  \n",
              "3             0          3       1  \n",
              "4             0          6       1  \n",
              "\n",
              "[5 rows x 89 columns]"
            ],
            "text/html": [
              "\n",
              "  <div id=\"df-70deee01-af9b-4b84-bfe6-51e3ae8850c5\">\n",
              "    <div class=\"colab-df-container\">\n",
              "      <div>\n",
              "<style scoped>\n",
              "    .dataframe tbody tr th:only-of-type {\n",
              "        vertical-align: middle;\n",
              "    }\n",
              "\n",
              "    .dataframe tbody tr th {\n",
              "        vertical-align: top;\n",
              "    }\n",
              "\n",
              "    .dataframe thead th {\n",
              "        text-align: right;\n",
              "    }\n",
              "</style>\n",
              "<table border=\"1\" class=\"dataframe\">\n",
              "  <thead>\n",
              "    <tr style=\"text-align: right;\">\n",
              "      <th></th>\n",
              "      <th>url</th>\n",
              "      <th>length_url</th>\n",
              "      <th>length_hostname</th>\n",
              "      <th>ip</th>\n",
              "      <th>nb_dots</th>\n",
              "      <th>nb_hyphens</th>\n",
              "      <th>nb_at</th>\n",
              "      <th>nb_qm</th>\n",
              "      <th>nb_and</th>\n",
              "      <th>nb_or</th>\n",
              "      <th>...</th>\n",
              "      <th>domain_in_title</th>\n",
              "      <th>domain_with_copyright</th>\n",
              "      <th>whois_registered_domain</th>\n",
              "      <th>domain_registration_length</th>\n",
              "      <th>domain_age</th>\n",
              "      <th>web_traffic</th>\n",
              "      <th>dns_record</th>\n",
              "      <th>google_index</th>\n",
              "      <th>page_rank</th>\n",
              "      <th>target</th>\n",
              "    </tr>\n",
              "  </thead>\n",
              "  <tbody>\n",
              "    <tr>\n",
              "      <th>0</th>\n",
              "      <td>http://www.crestonwood.com/router.php</td>\n",
              "      <td>37</td>\n",
              "      <td>19</td>\n",
              "      <td>0</td>\n",
              "      <td>3</td>\n",
              "      <td>0</td>\n",
              "      <td>0</td>\n",
              "      <td>0</td>\n",
              "      <td>0</td>\n",
              "      <td>0</td>\n",
              "      <td>...</td>\n",
              "      <td>0</td>\n",
              "      <td>1</td>\n",
              "      <td>0</td>\n",
              "      <td>45</td>\n",
              "      <td>-1</td>\n",
              "      <td>0</td>\n",
              "      <td>1</td>\n",
              "      <td>1</td>\n",
              "      <td>4</td>\n",
              "      <td>1</td>\n",
              "    </tr>\n",
              "    <tr>\n",
              "      <th>1</th>\n",
              "      <td>http://shadetreetechnology.com/V4/validation/a...</td>\n",
              "      <td>77</td>\n",
              "      <td>23</td>\n",
              "      <td>1</td>\n",
              "      <td>1</td>\n",
              "      <td>0</td>\n",
              "      <td>0</td>\n",
              "      <td>0</td>\n",
              "      <td>0</td>\n",
              "      <td>0</td>\n",
              "      <td>...</td>\n",
              "      <td>1</td>\n",
              "      <td>0</td>\n",
              "      <td>0</td>\n",
              "      <td>77</td>\n",
              "      <td>5767</td>\n",
              "      <td>0</td>\n",
              "      <td>0</td>\n",
              "      <td>1</td>\n",
              "      <td>2</td>\n",
              "      <td>0</td>\n",
              "    </tr>\n",
              "    <tr>\n",
              "      <th>2</th>\n",
              "      <td>https://support-appleld.com.secureupdate.duila...</td>\n",
              "      <td>126</td>\n",
              "      <td>50</td>\n",
              "      <td>1</td>\n",
              "      <td>4</td>\n",
              "      <td>1</td>\n",
              "      <td>0</td>\n",
              "      <td>1</td>\n",
              "      <td>2</td>\n",
              "      <td>0</td>\n",
              "      <td>...</td>\n",
              "      <td>1</td>\n",
              "      <td>0</td>\n",
              "      <td>0</td>\n",
              "      <td>14</td>\n",
              "      <td>4004</td>\n",
              "      <td>5828815</td>\n",
              "      <td>0</td>\n",
              "      <td>1</td>\n",
              "      <td>0</td>\n",
              "      <td>0</td>\n",
              "    </tr>\n",
              "    <tr>\n",
              "      <th>3</th>\n",
              "      <td>http://rgipt.ac.in</td>\n",
              "      <td>18</td>\n",
              "      <td>11</td>\n",
              "      <td>0</td>\n",
              "      <td>2</td>\n",
              "      <td>0</td>\n",
              "      <td>0</td>\n",
              "      <td>0</td>\n",
              "      <td>0</td>\n",
              "      <td>0</td>\n",
              "      <td>...</td>\n",
              "      <td>1</td>\n",
              "      <td>0</td>\n",
              "      <td>0</td>\n",
              "      <td>62</td>\n",
              "      <td>-1</td>\n",
              "      <td>107721</td>\n",
              "      <td>0</td>\n",
              "      <td>0</td>\n",
              "      <td>3</td>\n",
              "      <td>1</td>\n",
              "    </tr>\n",
              "    <tr>\n",
              "      <th>4</th>\n",
              "      <td>http://www.iracing.com/tracks/gateway-motorspo...</td>\n",
              "      <td>55</td>\n",
              "      <td>15</td>\n",
              "      <td>0</td>\n",
              "      <td>2</td>\n",
              "      <td>2</td>\n",
              "      <td>0</td>\n",
              "      <td>0</td>\n",
              "      <td>0</td>\n",
              "      <td>0</td>\n",
              "      <td>...</td>\n",
              "      <td>0</td>\n",
              "      <td>1</td>\n",
              "      <td>0</td>\n",
              "      <td>224</td>\n",
              "      <td>8175</td>\n",
              "      <td>8725</td>\n",
              "      <td>0</td>\n",
              "      <td>0</td>\n",
              "      <td>6</td>\n",
              "      <td>1</td>\n",
              "    </tr>\n",
              "  </tbody>\n",
              "</table>\n",
              "<p>5 rows × 89 columns</p>\n",
              "</div>\n",
              "      <button class=\"colab-df-convert\" onclick=\"convertToInteractive('df-70deee01-af9b-4b84-bfe6-51e3ae8850c5')\"\n",
              "              title=\"Convert this dataframe to an interactive table.\"\n",
              "              style=\"display:none;\">\n",
              "        \n",
              "  <svg xmlns=\"http://www.w3.org/2000/svg\" height=\"24px\"viewBox=\"0 0 24 24\"\n",
              "       width=\"24px\">\n",
              "    <path d=\"M0 0h24v24H0V0z\" fill=\"none\"/>\n",
              "    <path d=\"M18.56 5.44l.94 2.06.94-2.06 2.06-.94-2.06-.94-.94-2.06-.94 2.06-2.06.94zm-11 1L8.5 8.5l.94-2.06 2.06-.94-2.06-.94L8.5 2.5l-.94 2.06-2.06.94zm10 10l.94 2.06.94-2.06 2.06-.94-2.06-.94-.94-2.06-.94 2.06-2.06.94z\"/><path d=\"M17.41 7.96l-1.37-1.37c-.4-.4-.92-.59-1.43-.59-.52 0-1.04.2-1.43.59L10.3 9.45l-7.72 7.72c-.78.78-.78 2.05 0 2.83L4 21.41c.39.39.9.59 1.41.59.51 0 1.02-.2 1.41-.59l7.78-7.78 2.81-2.81c.8-.78.8-2.07 0-2.86zM5.41 20L4 18.59l7.72-7.72 1.47 1.35L5.41 20z\"/>\n",
              "  </svg>\n",
              "      </button>\n",
              "      \n",
              "  <style>\n",
              "    .colab-df-container {\n",
              "      display:flex;\n",
              "      flex-wrap:wrap;\n",
              "      gap: 12px;\n",
              "    }\n",
              "\n",
              "    .colab-df-convert {\n",
              "      background-color: #E8F0FE;\n",
              "      border: none;\n",
              "      border-radius: 50%;\n",
              "      cursor: pointer;\n",
              "      display: none;\n",
              "      fill: #1967D2;\n",
              "      height: 32px;\n",
              "      padding: 0 0 0 0;\n",
              "      width: 32px;\n",
              "    }\n",
              "\n",
              "    .colab-df-convert:hover {\n",
              "      background-color: #E2EBFA;\n",
              "      box-shadow: 0px 1px 2px rgba(60, 64, 67, 0.3), 0px 1px 3px 1px rgba(60, 64, 67, 0.15);\n",
              "      fill: #174EA6;\n",
              "    }\n",
              "\n",
              "    [theme=dark] .colab-df-convert {\n",
              "      background-color: #3B4455;\n",
              "      fill: #D2E3FC;\n",
              "    }\n",
              "\n",
              "    [theme=dark] .colab-df-convert:hover {\n",
              "      background-color: #434B5C;\n",
              "      box-shadow: 0px 1px 3px 1px rgba(0, 0, 0, 0.15);\n",
              "      filter: drop-shadow(0px 1px 2px rgba(0, 0, 0, 0.3));\n",
              "      fill: #FFFFFF;\n",
              "    }\n",
              "  </style>\n",
              "\n",
              "      <script>\n",
              "        const buttonEl =\n",
              "          document.querySelector('#df-70deee01-af9b-4b84-bfe6-51e3ae8850c5 button.colab-df-convert');\n",
              "        buttonEl.style.display =\n",
              "          google.colab.kernel.accessAllowed ? 'block' : 'none';\n",
              "\n",
              "        async function convertToInteractive(key) {\n",
              "          const element = document.querySelector('#df-70deee01-af9b-4b84-bfe6-51e3ae8850c5');\n",
              "          const dataTable =\n",
              "            await google.colab.kernel.invokeFunction('convertToInteractive',\n",
              "                                                     [key], {});\n",
              "          if (!dataTable) return;\n",
              "\n",
              "          const docLinkHtml = 'Like what you see? Visit the ' +\n",
              "            '<a target=\"_blank\" href=https://colab.research.google.com/notebooks/data_table.ipynb>data table notebook</a>'\n",
              "            + ' to learn more about interactive tables.';\n",
              "          element.innerHTML = '';\n",
              "          dataTable['output_type'] = 'display_data';\n",
              "          await google.colab.output.renderOutput(dataTable, element);\n",
              "          const docLink = document.createElement('div');\n",
              "          docLink.innerHTML = docLinkHtml;\n",
              "          element.appendChild(docLink);\n",
              "        }\n",
              "      </script>\n",
              "    </div>\n",
              "  </div>\n",
              "  "
            ]
          },
          "metadata": {},
          "execution_count": 3
        }
      ]
    },
    {
      "cell_type": "code",
      "source": [
        "tmp = data.isnull().sum().reset_index(name='missing_val')\n",
        "tmp[tmp['missing_val']!= 0]"
      ],
      "metadata": {
        "colab": {
          "base_uri": "https://localhost:8080/",
          "height": 49
        },
        "id": "jCLhUASjADdN",
        "outputId": "b9c362c4-37f3-4228-cf5e-5903667ff48d"
      },
      "execution_count": null,
      "outputs": [
        {
          "output_type": "execute_result",
          "data": {
            "text/plain": [
              "Empty DataFrame\n",
              "Columns: [index, missing_val]\n",
              "Index: []"
            ],
            "text/html": [
              "\n",
              "  <div id=\"df-65583a7a-10d5-467b-9251-11a67f002752\">\n",
              "    <div class=\"colab-df-container\">\n",
              "      <div>\n",
              "<style scoped>\n",
              "    .dataframe tbody tr th:only-of-type {\n",
              "        vertical-align: middle;\n",
              "    }\n",
              "\n",
              "    .dataframe tbody tr th {\n",
              "        vertical-align: top;\n",
              "    }\n",
              "\n",
              "    .dataframe thead th {\n",
              "        text-align: right;\n",
              "    }\n",
              "</style>\n",
              "<table border=\"1\" class=\"dataframe\">\n",
              "  <thead>\n",
              "    <tr style=\"text-align: right;\">\n",
              "      <th></th>\n",
              "      <th>index</th>\n",
              "      <th>missing_val</th>\n",
              "    </tr>\n",
              "  </thead>\n",
              "  <tbody>\n",
              "  </tbody>\n",
              "</table>\n",
              "</div>\n",
              "      <button class=\"colab-df-convert\" onclick=\"convertToInteractive('df-65583a7a-10d5-467b-9251-11a67f002752')\"\n",
              "              title=\"Convert this dataframe to an interactive table.\"\n",
              "              style=\"display:none;\">\n",
              "        \n",
              "  <svg xmlns=\"http://www.w3.org/2000/svg\" height=\"24px\"viewBox=\"0 0 24 24\"\n",
              "       width=\"24px\">\n",
              "    <path d=\"M0 0h24v24H0V0z\" fill=\"none\"/>\n",
              "    <path d=\"M18.56 5.44l.94 2.06.94-2.06 2.06-.94-2.06-.94-.94-2.06-.94 2.06-2.06.94zm-11 1L8.5 8.5l.94-2.06 2.06-.94-2.06-.94L8.5 2.5l-.94 2.06-2.06.94zm10 10l.94 2.06.94-2.06 2.06-.94-2.06-.94-.94-2.06-.94 2.06-2.06.94z\"/><path d=\"M17.41 7.96l-1.37-1.37c-.4-.4-.92-.59-1.43-.59-.52 0-1.04.2-1.43.59L10.3 9.45l-7.72 7.72c-.78.78-.78 2.05 0 2.83L4 21.41c.39.39.9.59 1.41.59.51 0 1.02-.2 1.41-.59l7.78-7.78 2.81-2.81c.8-.78.8-2.07 0-2.86zM5.41 20L4 18.59l7.72-7.72 1.47 1.35L5.41 20z\"/>\n",
              "  </svg>\n",
              "      </button>\n",
              "      \n",
              "  <style>\n",
              "    .colab-df-container {\n",
              "      display:flex;\n",
              "      flex-wrap:wrap;\n",
              "      gap: 12px;\n",
              "    }\n",
              "\n",
              "    .colab-df-convert {\n",
              "      background-color: #E8F0FE;\n",
              "      border: none;\n",
              "      border-radius: 50%;\n",
              "      cursor: pointer;\n",
              "      display: none;\n",
              "      fill: #1967D2;\n",
              "      height: 32px;\n",
              "      padding: 0 0 0 0;\n",
              "      width: 32px;\n",
              "    }\n",
              "\n",
              "    .colab-df-convert:hover {\n",
              "      background-color: #E2EBFA;\n",
              "      box-shadow: 0px 1px 2px rgba(60, 64, 67, 0.3), 0px 1px 3px 1px rgba(60, 64, 67, 0.15);\n",
              "      fill: #174EA6;\n",
              "    }\n",
              "\n",
              "    [theme=dark] .colab-df-convert {\n",
              "      background-color: #3B4455;\n",
              "      fill: #D2E3FC;\n",
              "    }\n",
              "\n",
              "    [theme=dark] .colab-df-convert:hover {\n",
              "      background-color: #434B5C;\n",
              "      box-shadow: 0px 1px 3px 1px rgba(0, 0, 0, 0.15);\n",
              "      filter: drop-shadow(0px 1px 2px rgba(0, 0, 0, 0.3));\n",
              "      fill: #FFFFFF;\n",
              "    }\n",
              "  </style>\n",
              "\n",
              "      <script>\n",
              "        const buttonEl =\n",
              "          document.querySelector('#df-65583a7a-10d5-467b-9251-11a67f002752 button.colab-df-convert');\n",
              "        buttonEl.style.display =\n",
              "          google.colab.kernel.accessAllowed ? 'block' : 'none';\n",
              "\n",
              "        async function convertToInteractive(key) {\n",
              "          const element = document.querySelector('#df-65583a7a-10d5-467b-9251-11a67f002752');\n",
              "          const dataTable =\n",
              "            await google.colab.kernel.invokeFunction('convertToInteractive',\n",
              "                                                     [key], {});\n",
              "          if (!dataTable) return;\n",
              "\n",
              "          const docLinkHtml = 'Like what you see? Visit the ' +\n",
              "            '<a target=\"_blank\" href=https://colab.research.google.com/notebooks/data_table.ipynb>data table notebook</a>'\n",
              "            + ' to learn more about interactive tables.';\n",
              "          element.innerHTML = '';\n",
              "          dataTable['output_type'] = 'display_data';\n",
              "          await google.colab.output.renderOutput(dataTable, element);\n",
              "          const docLink = document.createElement('div');\n",
              "          docLink.innerHTML = docLinkHtml;\n",
              "          element.appendChild(docLink);\n",
              "        }\n",
              "      </script>\n",
              "    </div>\n",
              "  </div>\n",
              "  "
            ]
          },
          "metadata": {},
          "execution_count": 4
        }
      ]
    },
    {
      "cell_type": "markdown",
      "source": [
        "No missing values!"
      ],
      "metadata": {
        "id": "o5YstUPqAMws"
      }
    },
    {
      "cell_type": "code",
      "source": [
        "likely_cat = {}\n",
        "for var in data.iloc[:,1:].columns:\n",
        "    likely_cat[var] = 1.*data[var].nunique()/data[var].count() < 0.002 \n",
        "\n",
        "num_cols = []\n",
        "cat_cols = []\n",
        "for col in likely_cat.keys():\n",
        "    if (likely_cat[col] == False):\n",
        "        num_cols.append(col)\n",
        "    else:\n",
        "        cat_cols.append(col)"
      ],
      "metadata": {
        "id": "n4AJIhqvB5Yn"
      },
      "execution_count": null,
      "outputs": []
    },
    {
      "cell_type": "code",
      "source": [
        "#Taking all columns except URL \n",
        "corr = data[num_cols].corr()\n",
        "\n",
        "fig = plt.figure(figsize=(12,12),dpi=80)\n",
        "mask = np.triu(np.ones_like(corr, dtype=bool))\n",
        "sns.heatmap(corr, mask=mask, cmap='BuPu', robust=True, center=0, square=True, linewidths=.5)\n",
        "plt.title('Correlation of Numerical(Continous) Features', fontsize=15)\n",
        "plt.show()"
      ],
      "metadata": {
        "colab": {
          "base_uri": "https://localhost:8080/",
          "height": 854
        },
        "id": "fjy4anOoAOnh",
        "outputId": "fdf6c03a-b1af-43db-885f-104208d2a313"
      },
      "execution_count": null,
      "outputs": [
        {
          "output_type": "display_data",
          "data": {
            "text/plain": [
              "<Figure size 960x960 with 2 Axes>"
            ],
            "image/png": "[encoded data removed]"
          },
          "metadata": {
            "needs_background": "light"
          }
        }
      ]
    },
    {
      "cell_type": "code",
      "source": [
        "distr =data.groupby('target')[num_cols].mean().reset_index().T\n",
        "distr.rename(columns={0:'0_Label',1:\"1_Label\"}, inplace=True)\n",
        "\n",
        "plt.rcParams['axes.facecolor']='w'\n",
        "ax = distr[1:-3][['0_Label','1_Label']].plot(kind='bar', title =\"Distribution of Average values across Target\", figsize=(12, 8), legend=True, fontsize=12)\n",
        "ax.set_xlabel(\"Numerical Features\", fontsize=14)\n",
        "ax.set_ylabel(\"Average Values\", fontsize=14)\n",
        "plt.show()"
      ],
      "metadata": {
        "colab": {
          "base_uri": "https://localhost:8080/",
          "height": 627
        },
        "id": "PdpAO31wClTl",
        "outputId": "fbb6c0df-4012-4882-d0f1-019bbdb7d554"
      },
      "execution_count": null,
      "outputs": [
        {
          "output_type": "display_data",
          "data": {
            "text/plain": [
              "<Figure size 864x576 with 1 Axes>"
            ],
            "image/png": "[encoded data removed]"
          },
          "metadata": {
            "needs_background": "light"
          }
        }
      ]
    },
    {
      "cell_type": "markdown",
      "source": [
        "\n",
        "\n",
        "1.   length_words_raw is expected to be highly correlated with length_url \n",
        "2.   Higher the length of URL ,or words in URL then more likely to be Phishing URL\n",
        "3.   Higher nb_links implies Legitimate URL\n",
        "4.   links_in_tags ,safe_anchor higher volume signals more towards Legitmate site\n",
        "\n",
        "\n",
        "\n"
      ],
      "metadata": {
        "id": "viCGymvbC5M6"
      }
    },
    {
      "cell_type": "code",
      "source": [
        "sns.catplot(\"page_rank\", hue=\"target\", data=data, kind=\"count\", palette={1:\"green\", 0:\"blue\"} ,height=5.0, aspect=11.7/8.27 )"
      ],
      "metadata": {
        "colab": {
          "base_uri": "https://localhost:8080/",
          "height": 443
        },
        "id": "cNZuXH-bCxHV",
        "outputId": "80356183-351f-4de1-aa63-d8ac1f28bba0"
      },
      "execution_count": null,
      "outputs": [
        {
          "output_type": "stream",
          "name": "stderr",
          "text": [
            "/usr/local/lib/python3.7/dist-packages/seaborn/_decorators.py:43: FutureWarning: Pass the following variable as a keyword arg: x. From version 0.12, the only valid positional argument will be `data`, and passing other arguments without an explicit keyword will result in an error or misinterpretation.\n",
            "  FutureWarning\n"
          ]
        },
        {
          "output_type": "execute_result",
          "data": {
            "text/plain": [
              "<seaborn.axisgrid.FacetGrid at 0x7fc5e9994b10>"
            ]
          },
          "metadata": {},
          "execution_count": 8
        },
        {
          "output_type": "display_data",
          "data": {
            "text/plain": [
              "<Figure size 551.686x360 with 1 Axes>"
            ],
            "image/png": "[encoded data removed]"
          },
          "metadata": {
            "needs_background": "light"
          }
        }
      ]
    },
    {
      "cell_type": "code",
      "source": [
        "from sklearn.model_selection import train_test_split\n",
        "X = data.iloc[: , 1:-1]\n",
        "y = data['target']\n",
        "\n",
        "# stratify - make sure classes are evenlly represented across splits\n",
        "X_train, X_valid, y_train, y_valid = train_test_split(X, y, stratify=y, train_size=0.75)\n",
        "X_train = np.expand_dims(X_train, axis=2)\n",
        "X_valid = np.expand_dims(X_valid, axis=2)\n",
        "input_shape = [X_train[1].shape]\n",
        "print(\"Input shape is \", input_shape)"
      ],
      "metadata": {
        "colab": {
          "base_uri": "https://localhost:8080/"
        },
        "id": "EcgRqxw3COtT",
        "outputId": "03e39697-ff43-44ec-d641-43229975616b"
      },
      "execution_count": null,
      "outputs": [
        {
          "output_type": "stream",
          "name": "stdout",
          "text": [
            "Input shape is  [(87, 1)]\n"
          ]
        }
      ]
    },
    {
      "cell_type": "code",
      "source": [
        "X_train.shape"
      ],
      "metadata": {
        "colab": {
          "base_uri": "https://localhost:8080/"
        },
        "id": "P7SHYBJNCnA3",
        "outputId": "b595b014-0bc1-4376-9832-30f516140db8"
      },
      "execution_count": null,
      "outputs": [
        {
          "output_type": "execute_result",
          "data": {
            "text/plain": [
              "(8572, 87, 1)"
            ]
          },
          "metadata": {},
          "execution_count": 26
        }
      ]
    },
    {
      "cell_type": "code",
      "source": [
        "X_train"
      ],
      "metadata": {
        "colab": {
          "base_uri": "https://localhost:8080/"
        },
        "id": "-g0A0mz9CsGr",
        "outputId": "3ed15c3c-09da-440c-8bfa-32bd7fc18f91"
      },
      "execution_count": null,
      "outputs": [
        {
          "output_type": "execute_result",
          "data": {
            "text/plain": [
              "array([[[ 81.],\n",
              "        [ 27.],\n",
              "        [  1.],\n",
              "        ...,\n",
              "        [  0.],\n",
              "        [  1.],\n",
              "        [  2.]],\n",
              "\n",
              "       [[261.],\n",
              "        [212.],\n",
              "        [  0.],\n",
              "        ...,\n",
              "        [  0.],\n",
              "        [  1.],\n",
              "        [  4.]],\n",
              "\n",
              "       [[ 24.],\n",
              "        [ 15.],\n",
              "        [  0.],\n",
              "        ...,\n",
              "        [  0.],\n",
              "        [  0.],\n",
              "        [  3.]],\n",
              "\n",
              "       ...,\n",
              "\n",
              "       [[ 58.],\n",
              "        [ 22.],\n",
              "        [  0.],\n",
              "        ...,\n",
              "        [  0.],\n",
              "        [  1.],\n",
              "        [  1.]],\n",
              "\n",
              "       [[105.],\n",
              "        [ 32.],\n",
              "        [  0.],\n",
              "        ...,\n",
              "        [  0.],\n",
              "        [  1.],\n",
              "        [  0.]],\n",
              "\n",
              "       [[ 82.],\n",
              "        [ 16.],\n",
              "        [  0.],\n",
              "        ...,\n",
              "        [  0.],\n",
              "        [  1.],\n",
              "        [ 10.]]])"
            ]
          },
          "metadata": {},
          "execution_count": 27
        }
      ]
    },
    {
      "cell_type": "code",
      "source": [
        "import torch\n",
        "import torch.nn as nn\n",
        "from torch.utils.data import TensorDataset\n",
        "from torch.utils.data import DataLoader\n",
        "\n",
        "x_tensor =  torch.from_numpy(X_train).float()\n",
        "y_tensor =  torch.from_numpy(y_train.values.ravel()).float()\n",
        "xtest_tensor =  torch.from_numpy(X_valid).float()\n",
        "ytest_tensor =  torch.from_numpy(y_valid.values.ravel()).float()"
      ],
      "metadata": {
        "id": "Ia4722JPD8qz"
      },
      "execution_count": null,
      "outputs": []
    },
    {
      "cell_type": "code",
      "source": [
        "batchsize = 64\n",
        "y_tensor = y_tensor.unsqueeze(1)\n",
        "train_ds = TensorDataset(x_tensor, y_tensor)\n",
        "train_dl = DataLoader(train_ds, batch_size=batchsize)"
      ],
      "metadata": {
        "id": "wEFHR_lsFveI"
      },
      "execution_count": null,
      "outputs": []
    },
    {
      "cell_type": "code",
      "source": [
        "ytest_tensor = ytest_tensor.unsqueeze(1)\n",
        "test_ds = TensorDataset(xtest_tensor, ytest_tensor)\n",
        "test_loader = DataLoader(test_ds, batch_size=32)"
      ],
      "metadata": {
        "id": "_cZOHD3GGJoq"
      },
      "execution_count": null,
      "outputs": []
    },
    {
      "cell_type": "code",
      "source": [
        "n_input_dim = X_train.shape[1]\n",
        "n_hidden1 = 300  \n",
        "n_hidden2 = 100\n",
        "n_output =  1  \n",
        "print(n_input_dim)"
      ],
      "metadata": {
        "colab": {
          "base_uri": "https://localhost:8080/"
        },
        "id": "2ZpV2UmPGPTa",
        "outputId": "39d61ac7-9126-455b-8759-ab46501254f0"
      },
      "execution_count": null,
      "outputs": [
        {
          "output_type": "stream",
          "name": "stdout",
          "text": [
            "87\n"
          ]
        }
      ]
    },
    {
      "cell_type": "code",
      "source": [
        "class ChurnModel(nn.Module):\n",
        "    def __init__(self):\n",
        "        super(ChurnModel, self).__init__()\n",
        "        self.layer_1 = nn.Linear(n_input_dim, n_hidden1) \n",
        "        self.layer_2 = nn.Linear(n_hidden1, n_hidden2)\n",
        "        self.layer_out = nn.Linear(n_hidden2, n_output) \n",
        "        \n",
        "        \n",
        "        self.relu = nn.ReLU()\n",
        "        self.sigmoid =  nn.Sigmoid()\n",
        "        self.dropout = nn.Dropout(p=0.1)\n",
        "        self.batchnorm1 = nn.BatchNorm1d(n_hidden1)\n",
        "        self.batchnorm2 = nn.BatchNorm1d(n_hidden2)\n",
        "        \n",
        "        \n",
        "    def forward(self, inputs):\n",
        "        x = self.relu(self.layer_1(inputs))\n",
        "        x = self.batchnorm1(x)\n",
        "        x = self.relu(self.layer_2(x))\n",
        "        x = self.batchnorm2(x)\n",
        "        x = self.dropout(x)\n",
        "        x = self.sigmoid(self.layer_out(x))\n",
        "        return x"
      ],
      "metadata": {
        "id": "f2IKPd_0GmsD"
      },
      "execution_count": null,
      "outputs": []
    },
    {
      "cell_type": "code",
      "source": [
        "model_1 = ChurnModel()\n",
        "print(model_1)"
      ],
      "metadata": {
        "colab": {
          "base_uri": "https://localhost:8080/"
        },
        "id": "CdsDhTXJGvLm",
        "outputId": "d871950a-eec1-4a37-8d56-ef66033ae3e4"
      },
      "execution_count": null,
      "outputs": [
        {
          "output_type": "stream",
          "name": "stdout",
          "text": [
            "ChurnModel(\n",
            "  (layer_1): Linear(in_features=87, out_features=300, bias=True)\n",
            "  (layer_2): Linear(in_features=300, out_features=100, bias=True)\n",
            "  (layer_out): Linear(in_features=100, out_features=1, bias=True)\n",
            "  (relu): ReLU()\n",
            "  (sigmoid): Sigmoid()\n",
            "  (dropout): Dropout(p=0.1, inplace=False)\n",
            "  (batchnorm1): BatchNorm1d(300, eps=1e-05, momentum=0.1, affine=True, track_running_stats=True)\n",
            "  (batchnorm2): BatchNorm1d(100, eps=1e-05, momentum=0.1, affine=True, track_running_stats=True)\n",
            ")\n"
          ]
        }
      ]
    },
    {
      "cell_type": "code",
      "source": [
        "loss_func = nn.BCELoss()\n",
        "learning_rate = 0.001\n",
        "optimizer = torch.optim.Adam(model_1.parameters(), lr=learning_rate)\n",
        "epochs = 50"
      ],
      "metadata": {
        "id": "cS7S-dWNG3rB"
      },
      "execution_count": null,
      "outputs": []
    },
    {
      "cell_type": "code",
      "source": [
        "from tensorflow import keras\n",
        "model_1 = keras.Sequential([\n",
        "    layers.Flatten(input_shape=(87,1)),\n",
        "    layers.Dense(256, activation='relu'),  \n",
        "    layers.BatchNormalization(),\n",
        "    layers.Dense(128, activation='relu'), \n",
        "    layers.BatchNormalization(),\n",
        "    layers.Dropout(0.1),\n",
        "    layers.Dense(10, activation='sigmoid'),  \n",
        "])"
      ],
      "metadata": {
        "id": "MlhYTJ19WQfD"
      },
      "execution_count": null,
      "outputs": []
    },
    {
      "cell_type": "code",
      "source": [
        "model_1.summary()"
      ],
      "metadata": {
        "colab": {
          "base_uri": "https://localhost:8080/"
        },
        "id": "9OiCK70XXS9n",
        "outputId": "d4c611cb-b951-42ce-d166-9fe06e9d195b"
      },
      "execution_count": null,
      "outputs": [
        {
          "output_type": "stream",
          "name": "stdout",
          "text": [
            "Model: \"sequential\"\n",
            "_________________________________________________________________\n",
            " Layer (type)                Output Shape              Param #   \n",
            "=================================================================\n",
            " flatten (Flatten)           (None, 87)                0         \n",
            "                                                                 \n",
            " dense (Dense)               (None, 256)               22528     \n",
            "                                                                 \n",
            " batch_normalization (BatchN  (None, 256)              1024      \n",
            " ormalization)                                                   \n",
            "                                                                 \n",
            " dense_1 (Dense)             (None, 128)               32896     \n",
            "                                                                 \n",
            " batch_normalization_1 (Batc  (None, 128)              512       \n",
            " hNormalization)                                                 \n",
            "                                                                 \n",
            " dropout (Dropout)           (None, 128)               0         \n",
            "                                                                 \n",
            " dense_2 (Dense)             (None, 10)                1290      \n",
            "                                                                 \n",
            "=================================================================\n",
            "Total params: 58,250\n",
            "Trainable params: 57,482\n",
            "Non-trainable params: 768\n",
            "_________________________________________________________________\n"
          ]
        }
      ]
    },
    {
      "cell_type": "code",
      "source": [
        "model_1.compile(optimizer='adam',\n",
        "              loss='sparse_categorical_crossentropy',\n",
        "              metrics=['accuracy'])"
      ],
      "metadata": {
        "id": "PT95tAqsW33T"
      },
      "execution_count": null,
      "outputs": []
    },
    {
      "cell_type": "code",
      "source": [
        "history = model_1.fit(X_train, y_train, epochs=50, \n",
        "          batch_size=2000, \n",
        "          validation_split=0.2)\n",
        "history"
      ],
      "metadata": {
        "colab": {
          "base_uri": "https://localhost:8080/"
        },
        "id": "XkE7St_UW63g",
        "outputId": "48806cfb-d2a1-49b2-8525-1f57465a9b42"
      },
      "execution_count": null,
      "outputs": [
        {
          "output_type": "stream",
          "name": "stdout",
          "text": [
            "Epoch 1/50\n",
            "4/4 [==============================] - 1s 100ms/step - loss: 2.6908 - accuracy: 0.2260 - val_loss: 8.8640 - val_accuracy: 0.0227\n",
            "Epoch 2/50\n",
            "4/4 [==============================] - 0s 36ms/step - loss: 2.0208 - accuracy: 0.4929 - val_loss: 4.9371 - val_accuracy: 0.1860\n",
            "Epoch 3/50\n",
            "4/4 [==============================] - 0s 35ms/step - loss: 1.7245 - accuracy: 0.6586 - val_loss: 3.6933 - val_accuracy: 0.2956\n",
            "Epoch 4/50\n",
            "4/4 [==============================] - 0s 38ms/step - loss: 1.5149 - accuracy: 0.7478 - val_loss: 2.9649 - val_accuracy: 0.4105\n",
            "Epoch 5/50\n",
            "4/4 [==============================] - 0s 40ms/step - loss: 1.3834 - accuracy: 0.7597 - val_loss: 2.6071 - val_accuracy: 0.4816\n",
            "Epoch 6/50\n",
            "4/4 [==============================] - 0s 36ms/step - loss: 1.2822 - accuracy: 0.7779 - val_loss: 2.4902 - val_accuracy: 0.5563\n",
            "Epoch 7/50\n",
            "4/4 [==============================] - 0s 38ms/step - loss: 1.1887 - accuracy: 0.7764 - val_loss: 2.1865 - val_accuracy: 0.5843\n",
            "Epoch 8/50\n",
            "4/4 [==============================] - 0s 36ms/step - loss: 1.1111 - accuracy: 0.7805 - val_loss: 2.2179 - val_accuracy: 0.5866\n",
            "Epoch 9/50\n",
            "4/4 [==============================] - 0s 36ms/step - loss: 1.0531 - accuracy: 0.7877 - val_loss: 2.1828 - val_accuracy: 0.6076\n",
            "Epoch 10/50\n",
            "4/4 [==============================] - 0s 36ms/step - loss: 0.9974 - accuracy: 0.7933 - val_loss: 2.2040 - val_accuracy: 0.6006\n",
            "Epoch 11/50\n",
            "4/4 [==============================] - 0s 36ms/step - loss: 0.9485 - accuracy: 0.8063 - val_loss: 2.0005 - val_accuracy: 0.6029\n",
            "Epoch 12/50\n",
            "4/4 [==============================] - 0s 39ms/step - loss: 0.9097 - accuracy: 0.8039 - val_loss: 1.9750 - val_accuracy: 0.6134\n",
            "Epoch 13/50\n",
            "4/4 [==============================] - 0s 37ms/step - loss: 0.8740 - accuracy: 0.8006 - val_loss: 1.8103 - val_accuracy: 0.6332\n",
            "Epoch 14/50\n",
            "4/4 [==============================] - 0s 36ms/step - loss: 0.8357 - accuracy: 0.8123 - val_loss: 1.8193 - val_accuracy: 0.6484\n",
            "Epoch 15/50\n",
            "4/4 [==============================] - 0s 36ms/step - loss: 0.8010 - accuracy: 0.8123 - val_loss: 2.0759 - val_accuracy: 0.6466\n",
            "Epoch 16/50\n",
            "4/4 [==============================] - 0s 35ms/step - loss: 0.7872 - accuracy: 0.8133 - val_loss: 1.7543 - val_accuracy: 0.6443\n",
            "Epoch 17/50\n",
            "4/4 [==============================] - 0s 35ms/step - loss: 0.7764 - accuracy: 0.8148 - val_loss: 1.4928 - val_accuracy: 0.6700\n",
            "Epoch 18/50\n",
            "4/4 [==============================] - 0s 36ms/step - loss: 0.7374 - accuracy: 0.8136 - val_loss: 2.5582 - val_accuracy: 0.6612\n",
            "Epoch 19/50\n",
            "4/4 [==============================] - 0s 47ms/step - loss: 0.7203 - accuracy: 0.8158 - val_loss: 1.6510 - val_accuracy: 0.6974\n",
            "Epoch 20/50\n",
            "4/4 [==============================] - 0s 36ms/step - loss: 0.7020 - accuracy: 0.8122 - val_loss: 1.4709 - val_accuracy: 0.6863\n",
            "Epoch 21/50\n",
            "4/4 [==============================] - 0s 37ms/step - loss: 0.6857 - accuracy: 0.8155 - val_loss: 1.3235 - val_accuracy: 0.7079\n",
            "Epoch 22/50\n",
            "4/4 [==============================] - 0s 37ms/step - loss: 0.6674 - accuracy: 0.8222 - val_loss: 1.3203 - val_accuracy: 0.6939\n",
            "Epoch 23/50\n",
            "4/4 [==============================] - 0s 39ms/step - loss: 0.6589 - accuracy: 0.8212 - val_loss: 1.2022 - val_accuracy: 0.7114\n",
            "Epoch 24/50\n",
            "4/4 [==============================] - 0s 35ms/step - loss: 0.6341 - accuracy: 0.8227 - val_loss: 1.2460 - val_accuracy: 0.7172\n",
            "Epoch 25/50\n",
            "4/4 [==============================] - 0s 36ms/step - loss: 0.6479 - accuracy: 0.8132 - val_loss: 1.1941 - val_accuracy: 0.7219\n",
            "Epoch 26/50\n",
            "4/4 [==============================] - 0s 34ms/step - loss: 0.6248 - accuracy: 0.8263 - val_loss: 1.2657 - val_accuracy: 0.7405\n",
            "Epoch 27/50\n",
            "4/4 [==============================] - 0s 35ms/step - loss: 0.6293 - accuracy: 0.8110 - val_loss: 1.0119 - val_accuracy: 0.7749\n",
            "Epoch 28/50\n",
            "4/4 [==============================] - 0s 38ms/step - loss: 0.6198 - accuracy: 0.8186 - val_loss: 0.9747 - val_accuracy: 0.7714\n",
            "Epoch 29/50\n",
            "4/4 [==============================] - 0s 35ms/step - loss: 0.6054 - accuracy: 0.8249 - val_loss: 0.8871 - val_accuracy: 0.7615\n",
            "Epoch 30/50\n",
            "4/4 [==============================] - 0s 36ms/step - loss: 0.5886 - accuracy: 0.8235 - val_loss: 0.8414 - val_accuracy: 0.7644\n",
            "Epoch 31/50\n",
            "4/4 [==============================] - 0s 36ms/step - loss: 0.5841 - accuracy: 0.8279 - val_loss: 0.7927 - val_accuracy: 0.7778\n",
            "Epoch 32/50\n",
            "4/4 [==============================] - 0s 38ms/step - loss: 0.5603 - accuracy: 0.8302 - val_loss: 1.8655 - val_accuracy: 0.7843\n",
            "Epoch 33/50\n",
            "4/4 [==============================] - 0s 36ms/step - loss: 0.5714 - accuracy: 0.8227 - val_loss: 1.1501 - val_accuracy: 0.7930\n",
            "Epoch 34/50\n",
            "4/4 [==============================] - 0s 36ms/step - loss: 0.5553 - accuracy: 0.8297 - val_loss: 0.8485 - val_accuracy: 0.7848\n",
            "Epoch 35/50\n",
            "4/4 [==============================] - 0s 34ms/step - loss: 0.5401 - accuracy: 0.8289 - val_loss: 0.8754 - val_accuracy: 0.7918\n",
            "Epoch 36/50\n",
            "4/4 [==============================] - 0s 36ms/step - loss: 0.5266 - accuracy: 0.8352 - val_loss: 1.3096 - val_accuracy: 0.7837\n",
            "Epoch 37/50\n",
            "4/4 [==============================] - 0s 36ms/step - loss: 0.5248 - accuracy: 0.8327 - val_loss: 1.2317 - val_accuracy: 0.7971\n",
            "Epoch 38/50\n",
            "4/4 [==============================] - 0s 36ms/step - loss: 0.5430 - accuracy: 0.8160 - val_loss: 1.0561 - val_accuracy: 0.7697\n",
            "Epoch 39/50\n",
            "4/4 [==============================] - 0s 38ms/step - loss: 0.5320 - accuracy: 0.8186 - val_loss: 0.8672 - val_accuracy: 0.7860\n",
            "Epoch 40/50\n",
            "4/4 [==============================] - 0s 37ms/step - loss: 0.5383 - accuracy: 0.8291 - val_loss: 0.6820 - val_accuracy: 0.7901\n",
            "Epoch 41/50\n",
            "4/4 [==============================] - 0s 37ms/step - loss: 0.5135 - accuracy: 0.8326 - val_loss: 0.6903 - val_accuracy: 0.7907\n",
            "Epoch 42/50\n",
            "4/4 [==============================] - 0s 36ms/step - loss: 0.5036 - accuracy: 0.8330 - val_loss: 0.7297 - val_accuracy: 0.7878\n",
            "Epoch 43/50\n",
            "4/4 [==============================] - 0s 36ms/step - loss: 0.5061 - accuracy: 0.8246 - val_loss: 0.9992 - val_accuracy: 0.7878\n",
            "Epoch 44/50\n",
            "4/4 [==============================] - 0s 35ms/step - loss: 0.5072 - accuracy: 0.8225 - val_loss: 3.0615 - val_accuracy: 0.7621\n",
            "Epoch 45/50\n",
            "4/4 [==============================] - 0s 35ms/step - loss: 0.4868 - accuracy: 0.8329 - val_loss: 1.8156 - val_accuracy: 0.7831\n",
            "Epoch 46/50\n",
            "4/4 [==============================] - 0s 38ms/step - loss: 0.4876 - accuracy: 0.8336 - val_loss: 1.4080 - val_accuracy: 0.7895\n",
            "Epoch 47/50\n",
            "4/4 [==============================] - 0s 35ms/step - loss: 0.4707 - accuracy: 0.8342 - val_loss: 1.2040 - val_accuracy: 0.7825\n",
            "Epoch 48/50\n",
            "4/4 [==============================] - 0s 37ms/step - loss: 0.4657 - accuracy: 0.8292 - val_loss: 1.0752 - val_accuracy: 0.7901\n",
            "Epoch 49/50\n",
            "4/4 [==============================] - 0s 38ms/step - loss: 0.4728 - accuracy: 0.8356 - val_loss: 0.9486 - val_accuracy: 0.7831\n",
            "Epoch 50/50\n",
            "4/4 [==============================] - 0s 37ms/step - loss: 0.4513 - accuracy: 0.8410 - val_loss: 0.8347 - val_accuracy: 0.7913\n"
          ]
        },
        {
          "output_type": "execute_result",
          "data": {
            "text/plain": [
              "<keras.callbacks.History at 0x7fc5741a4090>"
            ]
          },
          "metadata": {},
          "execution_count": 20
        }
      ]
    },
    {
      "cell_type": "code",
      "source": [
        "from keras.callbacks import ModelCheckpoint, EarlyStopping\n",
        "def fit_and_evaluate(t_x, val_x, t_y, val_y, EPOCHS=20, BATCH_SIZE=128):\n",
        "    early_stopping = EarlyStopping(monitor='val_loss', verbose=1)\n",
        "    model_checkpoint = ModelCheckpoint('fas_mnist_1.h5', verbose=1, save_best_only=True)\n",
        "    results = model_1.fit(t_x, t_y, epochs=EPOCHS, batch_size=BATCH_SIZE, callbacks=[early_stopping, model_checkpoint], \n",
        "              verbose=1, validation_split=0.1)  \n",
        "    print(\"Val Score: \", model_1.evaluate(val_x, val_y))\n",
        "    return results"
      ],
      "metadata": {
        "id": "BobsHRqmDoM9"
      },
      "execution_count": null,
      "outputs": []
    },
    {
      "cell_type": "code",
      "source": [
        "n_folds=5\n",
        "epochs=20\n",
        "batch_size=128\n",
        "\n",
        "#save the model history in a list after fitting so that we can plot later\n",
        "model_history = [] \n",
        "\n",
        "for i in range(n_folds):\n",
        "    print(\"Training on Fold: \",i+1)\n",
        "    t_x, val_x, t_y, val_y = train_test_split(X_train, y_train, test_size=0.1, random_state = np.random.randint(1,1000, 1)[0])\n",
        "    model_history.append(fit_and_evaluate(t_x, val_x, t_y, val_y, epochs, batch_size))\n",
        "    print(\"=======\"*12, end=\"\\n\\n\\n\")"
      ],
      "metadata": {
        "colab": {
          "base_uri": "https://localhost:8080/"
        },
        "id": "Q54PdYJUAvu1",
        "outputId": "14d62c97-8c1c-4052-d751-2fc9e06f73b8"
      },
      "execution_count": null,
      "outputs": [
        {
          "output_type": "stream",
          "name": "stdout",
          "text": [
            "Training on Fold:  1\n",
            "Epoch 1/20\n",
            "47/55 [========================>.....] - ETA: 0s - loss: 0.3637 - accuracy: 0.8263\n",
            "Epoch 1: val_loss improved from inf to 0.41691, saving model to fas_mnist_1.h5\n",
            "55/55 [==============================] - 0s 6ms/step - loss: 0.3646 - accuracy: 0.8274 - val_loss: 0.4169 - val_accuracy: 0.8057\n",
            "Epoch 2/20\n",
            "54/55 [============================>.] - ETA: 0s - loss: 0.3655 - accuracy: 0.8278\n",
            "Epoch 2: val_loss did not improve from 0.41691\n",
            "55/55 [==============================] - 0s 6ms/step - loss: 0.3657 - accuracy: 0.8279 - val_loss: 0.5708 - val_accuracy: 0.7668\n",
            "Epoch 2: early stopping\n",
            "27/27 [==============================] - 0s 2ms/step - loss: 0.5851 - accuracy: 0.7669\n",
            "Val Score:  [0.5851359963417053, 0.7668997645378113]\n",
            "====================================================================================\n",
            "\n",
            "\n",
            "Training on Fold:  2\n",
            "Epoch 1/20\n",
            "48/55 [=========================>....] - ETA: 0s - loss: 0.3459 - accuracy: 0.8405\n",
            "Epoch 1: val_loss improved from inf to 0.35247, saving model to fas_mnist_1.h5\n",
            "55/55 [==============================] - 0s 7ms/step - loss: 0.3492 - accuracy: 0.8405 - val_loss: 0.3525 - val_accuracy: 0.8472\n",
            "Epoch 2/20\n",
            "45/55 [=======================>......] - ETA: 0s - loss: 0.3604 - accuracy: 0.8332\n",
            "Epoch 2: val_loss improved from 0.35247 to 0.33889, saving model to fas_mnist_1.h5\n",
            "55/55 [==============================] - 0s 6ms/step - loss: 0.3563 - accuracy: 0.8356 - val_loss: 0.3389 - val_accuracy: 0.8446\n",
            "Epoch 2: early stopping\n",
            "27/27 [==============================] - 0s 2ms/step - loss: 0.3645 - accuracy: 0.8380\n",
            "Val Score:  [0.36445239186286926, 0.8379953503608704]\n",
            "====================================================================================\n",
            "\n",
            "\n",
            "Training on Fold:  3\n",
            "Epoch 1/20\n",
            "54/55 [============================>.] - ETA: 0s - loss: 0.3434 - accuracy: 0.8438\n",
            "Epoch 1: val_loss improved from inf to 0.43413, saving model to fas_mnist_1.h5\n",
            "55/55 [==============================] - 0s 7ms/step - loss: 0.3434 - accuracy: 0.8436 - val_loss: 0.4341 - val_accuracy: 0.7772\n",
            "Epoch 2/20\n",
            "54/55 [============================>.] - ETA: 0s - loss: 0.3520 - accuracy: 0.8411\n",
            "Epoch 2: val_loss improved from 0.43413 to 0.40598, saving model to fas_mnist_1.h5\n",
            "55/55 [==============================] - 0s 6ms/step - loss: 0.3524 - accuracy: 0.8411 - val_loss: 0.4060 - val_accuracy: 0.8044\n",
            "Epoch 2: early stopping\n",
            "27/27 [==============================] - 0s 2ms/step - loss: 0.3946 - accuracy: 0.8124\n",
            "Val Score:  [0.3945634663105011, 0.812354326248169]\n",
            "====================================================================================\n",
            "\n",
            "\n",
            "Training on Fold:  4\n",
            "Epoch 1/20\n",
            "54/55 [============================>.] - ETA: 0s - loss: 0.3480 - accuracy: 0.8419\n",
            "Epoch 1: val_loss improved from inf to 0.35513, saving model to fas_mnist_1.h5\n",
            "55/55 [==============================] - 0s 7ms/step - loss: 0.3487 - accuracy: 0.8415 - val_loss: 0.3551 - val_accuracy: 0.8510\n",
            "Epoch 2/20\n",
            "53/55 [===========================>..] - ETA: 0s - loss: 0.3371 - accuracy: 0.8471\n",
            "Epoch 2: val_loss did not improve from 0.35513\n",
            "55/55 [==============================] - 0s 6ms/step - loss: 0.3372 - accuracy: 0.8476 - val_loss: 0.4246 - val_accuracy: 0.7940\n",
            "Epoch 2: early stopping\n",
            "27/27 [==============================] - 0s 2ms/step - loss: 0.4366 - accuracy: 0.7832\n",
            "Val Score:  [0.4366242587566376, 0.7832167744636536]\n",
            "====================================================================================\n",
            "\n",
            "\n",
            "Training on Fold:  5\n",
            "Epoch 1/20\n",
            "44/55 [=======================>......] - ETA: 0s - loss: 0.3318 - accuracy: 0.8521\n",
            "Epoch 1: val_loss improved from inf to 0.37350, saving model to fas_mnist_1.h5\n",
            "55/55 [==============================] - 0s 6ms/step - loss: 0.3335 - accuracy: 0.8498 - val_loss: 0.3735 - val_accuracy: 0.8446\n",
            "Epoch 2/20\n",
            "52/55 [===========================>..] - ETA: 0s - loss: 0.3365 - accuracy: 0.8487\n",
            "Epoch 2: val_loss improved from 0.37350 to 0.34920, saving model to fas_mnist_1.h5\n",
            "55/55 [==============================] - 0s 6ms/step - loss: 0.3366 - accuracy: 0.8487 - val_loss: 0.3492 - val_accuracy: 0.8497\n",
            "Epoch 2: early stopping\n",
            "27/27 [==============================] - 0s 2ms/step - loss: 0.3871 - accuracy: 0.8217\n",
            "Val Score:  [0.3870653510093689, 0.8216783404350281]\n",
            "====================================================================================\n",
            "\n",
            "\n"
          ]
        }
      ]
    },
    {
      "cell_type": "code",
      "source": [
        "plt.title('Accuracies vs Epochs')\n",
        "plt.plot(model_history[0].history['accuracy'], label='Training Fold 1')\n",
        "plt.plot(model_history[1].history['accuracy'], label='Training Fold 2')\n",
        "plt.plot(model_history[2].history['accuracy'], label='Training Fold 3')\n",
        "plt.plot(model_history[3].history['accuracy'], label='Training Fold 4')\n",
        "plt.plot(model_history[4].history['accuracy'], label='Training Fold 5')\n",
        "plt.legend()\n",
        "plt.show()"
      ],
      "metadata": {
        "colab": {
          "base_uri": "https://localhost:8080/",
          "height": 281
        },
        "id": "SLZOaCrqFgdz",
        "outputId": "29cb99cd-ff6e-4e66-b02e-417be4b81617"
      },
      "execution_count": null,
      "outputs": [
        {
          "output_type": "display_data",
          "data": {
            "text/plain": [
              "<Figure size 432x288 with 1 Axes>"
            ],
            "image/png": "[encoded data removed]"
          },
          "metadata": {
            "needs_background": "light"
          }
        }
      ]
    },
    {
      "cell_type": "code",
      "source": [
        "plt.title('Train Accuracy vs Val Accuracy')\n",
        "plt.plot(model_history[0].history['accuracy'], label='Train Accuracy Fold 1', color='black')\n",
        "plt.plot(model_history[0].history['val_accuracy'], label='Val Accuracy Fold 1', color='black', linestyle = \"dashdot\")\n",
        "plt.plot(model_history[1].history['accuracy'], label='Train Accuracy Fold 2', color='red', )\n",
        "plt.plot(model_history[1].history['val_accuracy'], label='Val Accuracy Fold 2', color='red', linestyle = \"dashdot\")\n",
        "plt.plot(model_history[2].history['accuracy'], label='Train Accuracy Fold 3', color='green', )\n",
        "plt.plot(model_history[2].history['val_accuracy'], label='Val Accuracy Fold 3', color='green', linestyle = \"dashdot\")\n",
        "plt.plot(model_history[3].history['accuracy'], label='Train Accuracy Fold 4', color='blue', )\n",
        "plt.plot(model_history[3].history['val_accuracy'], label='Val Accuracy Fold 4', color='blue', linestyle = \"dashdot\")\n",
        "plt.plot(model_history[4].history['accuracy'], label='Train Accuracy Fold 5', color='pink', )\n",
        "plt.plot(model_history[4].history['val_accuracy'], label='Val Accuracy Fold 5', color='pink', linestyle = \"dashdot\")\n",
        "#plt.legend()\n",
        "plt.show()"
      ],
      "metadata": {
        "colab": {
          "base_uri": "https://localhost:8080/",
          "height": 281
        },
        "id": "78cP07o1Hli3",
        "outputId": "64fa24f3-5175-45bd-ba29-63f17fcf0554"
      },
      "execution_count": null,
      "outputs": [
        {
          "output_type": "display_data",
          "data": {
            "text/plain": [
              "<Figure size 432x288 with 1 Axes>"
            ],
            "image/png": "[encoded data removed]"
          },
          "metadata": {
            "needs_background": "light"
          }
        }
      ]
    },
    {
      "cell_type": "code",
      "source": [
        "history_df = pd.DataFrame(history.history)\n",
        "# Start the plot at epoch 10\n",
        "history_df.loc[10:, ['loss', 'val_loss']].plot()\n",
        "history_df.loc[10:, ['accuracy', 'val_accuracy']].plot()\n",
        "\n",
        "print((\"Best Validation Loss: {:0.4f}\" +\\\n",
        "      \"\\nBest Validation Accuracy: {:0.4f}\")\\\n",
        "      .format(history_df['val_loss'].min(), \n",
        "              history_df['val_accuracy'].max()))"
      ],
      "metadata": {
        "colab": {
          "base_uri": "https://localhost:8080/",
          "height": 551
        },
        "id": "4CmlXs8ZaxjI",
        "outputId": "02d5453c-cfc4-43e1-8396-8b0be7631ddb"
      },
      "execution_count": null,
      "outputs": [
        {
          "output_type": "stream",
          "name": "stdout",
          "text": [
            "Best Validation Loss: 0.6820\n",
            "Best Validation Accuracy: 0.7971\n"
          ]
        },
        {
          "output_type": "display_data",
          "data": {
            "text/plain": [
              "<Figure size 432x288 with 1 Axes>"
            ],
            "image/png": "[encoded data removed]"
          },
          "metadata": {
            "needs_background": "light"
          }
        },
        {
          "output_type": "display_data",
          "data": {
            "text/plain": [
              "<Figure size 432x288 with 1 Axes>"
            ],
            "image/png": "[encoded data removed]"
          },
          "metadata": {
            "needs_background": "light"
          }
        }
      ]
    },
    {
      "cell_type": "markdown",
      "source": [
        "# MODEL 2"
      ],
      "metadata": {
        "id": "zi0v9adQacuk"
      }
    },
    {
      "cell_type": "code",
      "source": [
        "from tensorflow import keras\n",
        "#building the detection model\n",
        "model = keras.Sequential([\n",
        "    layers.BatchNormalization(input_shape=(87, 1)),\n",
        "    layers.Conv1D(filters=64,kernel_size=7,activation='relu'),\n",
        "    layers.BatchNormalization(),\n",
        "    layers.MaxPooling1D(pool_size=2) ,\n",
        "    layers.Dropout(0.3),\n",
        "    layers.Flatten(), \n",
        "    layers.Dense(512,activation='relu'),\n",
        "    layers.BatchNormalization(),\n",
        "    layers.Dropout(0.3),\n",
        "    layers.Dense(512,activation='relu'),\n",
        "    layers.BatchNormalization(),\n",
        "    layers.Dropout(0.3),\n",
        "    layers.Dense(1, activation='sigmoid'),\n",
        "])"
      ],
      "metadata": {
        "id": "yH97KWCRCwGF"
      },
      "execution_count": null,
      "outputs": []
    },
    {
      "cell_type": "code",
      "source": [
        "model.summary()"
      ],
      "metadata": {
        "colab": {
          "base_uri": "https://localhost:8080/"
        },
        "id": "PXqQNYHYDDfh",
        "outputId": "247dd4a1-ed16-4116-c071-802bc308fdb2"
      },
      "execution_count": null,
      "outputs": [
        {
          "output_type": "stream",
          "name": "stdout",
          "text": [
            "Model: \"sequential\"\n",
            "_________________________________________________________________\n",
            " Layer (type)                Output Shape              Param #   \n",
            "=================================================================\n",
            " batch_normalization (BatchN  (None, 87, 1)            4         \n",
            " ormalization)                                                   \n",
            "                                                                 \n",
            " conv1d (Conv1D)             (None, 81, 64)            512       \n",
            "                                                                 \n",
            " batch_normalization_1 (Batc  (None, 81, 64)           256       \n",
            " hNormalization)                                                 \n",
            "                                                                 \n",
            " max_pooling1d (MaxPooling1D  (None, 40, 64)           0         \n",
            " )                                                               \n",
            "                                                                 \n",
            " dropout (Dropout)           (None, 40, 64)            0         \n",
            "                                                                 \n",
            " flatten (Flatten)           (None, 2560)              0         \n",
            "                                                                 \n",
            " dense (Dense)               (None, 512)               1311232   \n",
            "                                                                 \n",
            " batch_normalization_2 (Batc  (None, 512)              2048      \n",
            " hNormalization)                                                 \n",
            "                                                                 \n",
            " dropout_1 (Dropout)         (None, 512)               0         \n",
            "                                                                 \n",
            " dense_1 (Dense)             (None, 512)               262656    \n",
            "                                                                 \n",
            " batch_normalization_3 (Batc  (None, 512)              2048      \n",
            " hNormalization)                                                 \n",
            "                                                                 \n",
            " dropout_2 (Dropout)         (None, 512)               0         \n",
            "                                                                 \n",
            " dense_2 (Dense)             (None, 1)                 513       \n",
            "                                                                 \n",
            "=================================================================\n",
            "Total params: 1,579,269\n",
            "Trainable params: 1,577,091\n",
            "Non-trainable params: 2,178\n",
            "_________________________________________________________________\n"
          ]
        }
      ]
    },
    {
      "cell_type": "code",
      "source": [
        "model.compile(\n",
        "    optimizer='adam',\n",
        "    loss='binary_crossentropy',\n",
        "    metrics=['binary_accuracy'],\n",
        ")"
      ],
      "metadata": {
        "id": "CO5arLEODIDV"
      },
      "execution_count": null,
      "outputs": []
    },
    {
      "cell_type": "code",
      "source": [
        "early_stopping = keras.callbacks.EarlyStopping(\n",
        "    patience=20,\n",
        "    min_delta=0.0001,\n",
        "    restore_best_weights=True,\n",
        ")\n",
        "history = model.fit(\n",
        "    X_train, y_train,\n",
        "    validation_data=(X_valid, y_valid),\n",
        "    batch_size=512,\n",
        "    epochs=20000,\n",
        "    callbacks=[early_stopping],\n",
        ")"
      ],
      "metadata": {
        "colab": {
          "base_uri": "https://localhost:8080/"
        },
        "id": "zjHouuWWDNnX",
        "outputId": "3f3a449c-a47a-4e3c-ec13-5c27a33e26a4"
      },
      "execution_count": null,
      "outputs": [
        {
          "output_type": "stream",
          "name": "stdout",
          "text": [
            "Epoch 1/20000\n",
            "17/17 [==============================] - 6s 236ms/step - loss: 0.7863 - binary_accuracy: 0.6289 - val_loss: 0.7072 - val_binary_accuracy: 0.5000\n",
            "Epoch 2/20000\n",
            "17/17 [==============================] - 4s 214ms/step - loss: 0.6955 - binary_accuracy: 0.6779 - val_loss: 0.6934 - val_binary_accuracy: 0.5175\n",
            "Epoch 3/20000\n",
            "17/17 [==============================] - 4s 212ms/step - loss: 0.6533 - binary_accuracy: 0.6982 - val_loss: 0.6900 - val_binary_accuracy: 0.5679\n",
            "Epoch 4/20000\n",
            "17/17 [==============================] - 4s 211ms/step - loss: 0.6458 - binary_accuracy: 0.7028 - val_loss: 0.6911 - val_binary_accuracy: 0.6001\n",
            "Epoch 5/20000\n",
            "17/17 [==============================] - 4s 228ms/step - loss: 0.6199 - binary_accuracy: 0.7186 - val_loss: 0.6851 - val_binary_accuracy: 0.6260\n",
            "Epoch 6/20000\n",
            "17/17 [==============================] - 4s 211ms/step - loss: 0.6187 - binary_accuracy: 0.7206 - val_loss: 0.6878 - val_binary_accuracy: 0.5227\n",
            "Epoch 7/20000\n",
            "17/17 [==============================] - 4s 211ms/step - loss: 0.5990 - binary_accuracy: 0.7219 - val_loss: 0.6879 - val_binary_accuracy: 0.5231\n",
            "Epoch 8/20000\n",
            "17/17 [==============================] - 5s 292ms/step - loss: 0.5903 - binary_accuracy: 0.7354 - val_loss: 0.6839 - val_binary_accuracy: 0.5294\n",
            "Epoch 9/20000\n",
            "17/17 [==============================] - 4s 209ms/step - loss: 0.5841 - binary_accuracy: 0.7441 - val_loss: 0.6863 - val_binary_accuracy: 0.5301\n",
            "Epoch 10/20000\n",
            "17/17 [==============================] - 4s 209ms/step - loss: 0.5671 - binary_accuracy: 0.7459 - val_loss: 0.6858 - val_binary_accuracy: 0.5294\n",
            "Epoch 11/20000\n",
            "17/17 [==============================] - 4s 211ms/step - loss: 0.5448 - binary_accuracy: 0.7592 - val_loss: 0.6810 - val_binary_accuracy: 0.5287\n",
            "Epoch 12/20000\n",
            "17/17 [==============================] - 4s 210ms/step - loss: 0.5332 - binary_accuracy: 0.7612 - val_loss: 0.6843 - val_binary_accuracy: 0.5262\n",
            "Epoch 13/20000\n",
            "17/17 [==============================] - 4s 210ms/step - loss: 0.5127 - binary_accuracy: 0.7773 - val_loss: 0.6718 - val_binary_accuracy: 0.5283\n",
            "Epoch 14/20000\n",
            "17/17 [==============================] - 4s 211ms/step - loss: 0.5048 - binary_accuracy: 0.7804 - val_loss: 0.6726 - val_binary_accuracy: 0.5822\n",
            "Epoch 15/20000\n",
            "17/17 [==============================] - 4s 210ms/step - loss: 0.4934 - binary_accuracy: 0.7825 - val_loss: 0.6655 - val_binary_accuracy: 0.5952\n",
            "Epoch 16/20000\n",
            "17/17 [==============================] - 4s 250ms/step - loss: 0.4814 - binary_accuracy: 0.7867 - val_loss: 0.6978 - val_binary_accuracy: 0.5448\n",
            "Epoch 17/20000\n",
            "17/17 [==============================] - 4s 235ms/step - loss: 0.4790 - binary_accuracy: 0.7898 - val_loss: 0.6748 - val_binary_accuracy: 0.5301\n",
            "Epoch 18/20000\n",
            "17/17 [==============================] - 4s 212ms/step - loss: 0.4809 - binary_accuracy: 0.7890 - val_loss: 0.6675 - val_binary_accuracy: 0.5311\n",
            "Epoch 19/20000\n",
            "17/17 [==============================] - 4s 211ms/step - loss: 0.4650 - binary_accuracy: 0.7969 - val_loss: 0.8940 - val_binary_accuracy: 0.5609\n",
            "Epoch 20/20000\n",
            "17/17 [==============================] - 4s 211ms/step - loss: 0.4630 - binary_accuracy: 0.7915 - val_loss: 0.9992 - val_binary_accuracy: 0.5315\n",
            "Epoch 21/20000\n",
            "17/17 [==============================] - 4s 210ms/step - loss: 0.4667 - binary_accuracy: 0.7891 - val_loss: 0.8615 - val_binary_accuracy: 0.5458\n",
            "Epoch 22/20000\n",
            "17/17 [==============================] - 4s 212ms/step - loss: 0.4631 - binary_accuracy: 0.7923 - val_loss: 0.8183 - val_binary_accuracy: 0.5584\n",
            "Epoch 23/20000\n",
            "17/17 [==============================] - 4s 210ms/step - loss: 0.4559 - binary_accuracy: 0.7961 - val_loss: 0.9035 - val_binary_accuracy: 0.5563\n",
            "Epoch 24/20000\n",
            "17/17 [==============================] - 4s 213ms/step - loss: 0.4512 - binary_accuracy: 0.7940 - val_loss: 0.9340 - val_binary_accuracy: 0.5556\n",
            "Epoch 25/20000\n",
            "17/17 [==============================] - 4s 212ms/step - loss: 0.4491 - binary_accuracy: 0.7964 - val_loss: 0.6523 - val_binary_accuracy: 0.5882\n",
            "Epoch 26/20000\n",
            "17/17 [==============================] - 4s 212ms/step - loss: 0.4453 - binary_accuracy: 0.7992 - val_loss: 0.6810 - val_binary_accuracy: 0.6113\n",
            "Epoch 27/20000\n",
            "17/17 [==============================] - 4s 209ms/step - loss: 0.4496 - binary_accuracy: 0.7943 - val_loss: 0.7839 - val_binary_accuracy: 0.5945\n",
            "Epoch 28/20000\n",
            "17/17 [==============================] - 4s 213ms/step - loss: 0.4461 - binary_accuracy: 0.7960 - val_loss: 0.7749 - val_binary_accuracy: 0.5693\n",
            "Epoch 29/20000\n",
            "17/17 [==============================] - 4s 211ms/step - loss: 0.4388 - binary_accuracy: 0.8031 - val_loss: 0.6004 - val_binary_accuracy: 0.8198\n",
            "Epoch 30/20000\n",
            "17/17 [==============================] - 4s 211ms/step - loss: 0.4435 - binary_accuracy: 0.7976 - val_loss: 0.5837 - val_binary_accuracy: 0.7988\n",
            "Epoch 31/20000\n",
            "17/17 [==============================] - 4s 213ms/step - loss: 0.4361 - binary_accuracy: 0.8042 - val_loss: 0.5435 - val_binary_accuracy: 0.7855\n",
            "Epoch 32/20000\n",
            "17/17 [==============================] - 4s 211ms/step - loss: 0.4375 - binary_accuracy: 0.8024 - val_loss: 0.5606 - val_binary_accuracy: 0.7022\n",
            "Epoch 33/20000\n",
            "17/17 [==============================] - 4s 211ms/step - loss: 0.4345 - binary_accuracy: 0.8046 - val_loss: 0.5343 - val_binary_accuracy: 0.7946\n",
            "Epoch 34/20000\n",
            "17/17 [==============================] - 4s 211ms/step - loss: 0.4296 - binary_accuracy: 0.8107 - val_loss: 0.6452 - val_binary_accuracy: 0.6613\n",
            "Epoch 35/20000\n",
            "17/17 [==============================] - 4s 209ms/step - loss: 0.4326 - binary_accuracy: 0.8021 - val_loss: 0.7046 - val_binary_accuracy: 0.6707\n",
            "Epoch 36/20000\n",
            "17/17 [==============================] - 4s 210ms/step - loss: 0.4363 - binary_accuracy: 0.8010 - val_loss: 1.0041 - val_binary_accuracy: 0.6431\n",
            "Epoch 37/20000\n",
            "17/17 [==============================] - 4s 211ms/step - loss: 0.4343 - binary_accuracy: 0.8032 - val_loss: 0.7462 - val_binary_accuracy: 0.6749\n",
            "Epoch 38/20000\n",
            "17/17 [==============================] - 4s 209ms/step - loss: 0.4289 - binary_accuracy: 0.8046 - val_loss: 0.4926 - val_binary_accuracy: 0.7985\n",
            "Epoch 39/20000\n",
            "17/17 [==============================] - 4s 210ms/step - loss: 0.4270 - binary_accuracy: 0.8090 - val_loss: 0.5406 - val_binary_accuracy: 0.7225\n",
            "Epoch 40/20000\n",
            "17/17 [==============================] - 4s 213ms/step - loss: 0.4191 - binary_accuracy: 0.8109 - val_loss: 0.5186 - val_binary_accuracy: 0.7558\n",
            "Epoch 41/20000\n",
            "17/17 [==============================] - 4s 211ms/step - loss: 0.4228 - binary_accuracy: 0.8095 - val_loss: 0.6351 - val_binary_accuracy: 0.6627\n",
            "Epoch 42/20000\n",
            "17/17 [==============================] - 4s 211ms/step - loss: 0.4275 - binary_accuracy: 0.8024 - val_loss: 0.4506 - val_binary_accuracy: 0.8076\n",
            "Epoch 43/20000\n",
            "17/17 [==============================] - 4s 213ms/step - loss: 0.4212 - binary_accuracy: 0.8091 - val_loss: 0.4598 - val_binary_accuracy: 0.7890\n",
            "Epoch 44/20000\n",
            "17/17 [==============================] - 4s 210ms/step - loss: 0.4181 - binary_accuracy: 0.8123 - val_loss: 0.4628 - val_binary_accuracy: 0.7873\n",
            "Epoch 45/20000\n",
            "17/17 [==============================] - 4s 211ms/step - loss: 0.4212 - binary_accuracy: 0.8084 - val_loss: 0.5035 - val_binary_accuracy: 0.7659\n",
            "Epoch 46/20000\n",
            "17/17 [==============================] - 4s 211ms/step - loss: 0.4193 - binary_accuracy: 0.8093 - val_loss: 0.4499 - val_binary_accuracy: 0.7960\n",
            "Epoch 47/20000\n",
            "17/17 [==============================] - 4s 209ms/step - loss: 0.4206 - binary_accuracy: 0.8095 - val_loss: 0.4844 - val_binary_accuracy: 0.7782\n",
            "Epoch 48/20000\n",
            "17/17 [==============================] - 4s 210ms/step - loss: 0.4142 - binary_accuracy: 0.8117 - val_loss: 0.5421 - val_binary_accuracy: 0.7127\n",
            "Epoch 49/20000\n",
            "17/17 [==============================] - 4s 212ms/step - loss: 0.4144 - binary_accuracy: 0.8123 - val_loss: 0.4501 - val_binary_accuracy: 0.7995\n",
            "Epoch 50/20000\n",
            "17/17 [==============================] - 4s 209ms/step - loss: 0.4109 - binary_accuracy: 0.8111 - val_loss: 0.4776 - val_binary_accuracy: 0.7834\n",
            "Epoch 51/20000\n",
            "17/17 [==============================] - 4s 210ms/step - loss: 0.4117 - binary_accuracy: 0.8140 - val_loss: 0.4348 - val_binary_accuracy: 0.8016\n",
            "Epoch 52/20000\n",
            "17/17 [==============================] - 4s 212ms/step - loss: 0.4100 - binary_accuracy: 0.8170 - val_loss: 0.8772 - val_binary_accuracy: 0.6662\n",
            "Epoch 53/20000\n",
            "17/17 [==============================] - 4s 212ms/step - loss: 0.4137 - binary_accuracy: 0.8107 - val_loss: 0.4633 - val_binary_accuracy: 0.8069\n",
            "Epoch 54/20000\n",
            "17/17 [==============================] - 4s 212ms/step - loss: 0.4069 - binary_accuracy: 0.8143 - val_loss: 0.9909 - val_binary_accuracy: 0.5416\n",
            "Epoch 55/20000\n",
            "17/17 [==============================] - 4s 211ms/step - loss: 0.4055 - binary_accuracy: 0.8163 - val_loss: 0.4864 - val_binary_accuracy: 0.7568\n",
            "Epoch 56/20000\n",
            "17/17 [==============================] - 4s 211ms/step - loss: 0.4024 - binary_accuracy: 0.8205 - val_loss: 0.7048 - val_binary_accuracy: 0.7092\n",
            "Epoch 57/20000\n",
            "17/17 [==============================] - 4s 211ms/step - loss: 0.4069 - binary_accuracy: 0.8156 - val_loss: 0.4284 - val_binary_accuracy: 0.8153\n",
            "Epoch 58/20000\n",
            "17/17 [==============================] - 4s 212ms/step - loss: 0.4035 - binary_accuracy: 0.8200 - val_loss: 0.6215 - val_binary_accuracy: 0.7225\n",
            "Epoch 59/20000\n",
            "17/17 [==============================] - 4s 211ms/step - loss: 0.4006 - binary_accuracy: 0.8193 - val_loss: 0.5039 - val_binary_accuracy: 0.7803\n",
            "Epoch 60/20000\n",
            "17/17 [==============================] - 4s 214ms/step - loss: 0.4065 - binary_accuracy: 0.8160 - val_loss: 0.5657 - val_binary_accuracy: 0.7453\n",
            "Epoch 61/20000\n",
            "17/17 [==============================] - 4s 210ms/step - loss: 0.3983 - binary_accuracy: 0.8237 - val_loss: 0.5899 - val_binary_accuracy: 0.7477\n",
            "Epoch 62/20000\n",
            "17/17 [==============================] - 4s 211ms/step - loss: 0.3959 - binary_accuracy: 0.8195 - val_loss: 2.7247 - val_binary_accuracy: 0.5763\n",
            "Epoch 63/20000\n",
            "17/17 [==============================] - 4s 209ms/step - loss: 0.4009 - binary_accuracy: 0.8189 - val_loss: 0.7933 - val_binary_accuracy: 0.6910\n",
            "Epoch 64/20000\n",
            "17/17 [==============================] - 4s 209ms/step - loss: 0.4008 - binary_accuracy: 0.8171 - val_loss: 0.4146 - val_binary_accuracy: 0.8104\n",
            "Epoch 65/20000\n",
            "17/17 [==============================] - 4s 209ms/step - loss: 0.3992 - binary_accuracy: 0.8203 - val_loss: 0.4358 - val_binary_accuracy: 0.7890\n",
            "Epoch 66/20000\n",
            "17/17 [==============================] - 4s 212ms/step - loss: 0.3916 - binary_accuracy: 0.8175 - val_loss: 0.4046 - val_binary_accuracy: 0.8069\n",
            "Epoch 67/20000\n",
            "17/17 [==============================] - 4s 209ms/step - loss: 0.3946 - binary_accuracy: 0.8213 - val_loss: 0.4923 - val_binary_accuracy: 0.7726\n",
            "Epoch 68/20000\n",
            "17/17 [==============================] - 4s 211ms/step - loss: 0.3891 - binary_accuracy: 0.8229 - val_loss: 0.5889 - val_binary_accuracy: 0.7281\n",
            "Epoch 69/20000\n",
            "17/17 [==============================] - 4s 210ms/step - loss: 0.3917 - binary_accuracy: 0.8209 - val_loss: 0.5605 - val_binary_accuracy: 0.7701\n",
            "Epoch 70/20000\n",
            "17/17 [==============================] - 4s 211ms/step - loss: 0.3905 - binary_accuracy: 0.8240 - val_loss: 0.4352 - val_binary_accuracy: 0.7932\n",
            "Epoch 71/20000\n",
            "17/17 [==============================] - 4s 208ms/step - loss: 0.3931 - binary_accuracy: 0.8177 - val_loss: 0.4202 - val_binary_accuracy: 0.8076\n",
            "Epoch 72/20000\n",
            "17/17 [==============================] - 4s 212ms/step - loss: 0.3873 - binary_accuracy: 0.8254 - val_loss: 0.4395 - val_binary_accuracy: 0.8184\n",
            "Epoch 73/20000\n",
            "17/17 [==============================] - 4s 212ms/step - loss: 0.3881 - binary_accuracy: 0.8269 - val_loss: 2.1247 - val_binary_accuracy: 0.5938\n",
            "Epoch 74/20000\n",
            "17/17 [==============================] - 4s 211ms/step - loss: 0.3879 - binary_accuracy: 0.8252 - val_loss: 0.5834 - val_binary_accuracy: 0.6284\n",
            "Epoch 75/20000\n",
            "17/17 [==============================] - 4s 209ms/step - loss: 0.3859 - binary_accuracy: 0.8233 - val_loss: 1.2413 - val_binary_accuracy: 0.6228\n",
            "Epoch 76/20000\n",
            "17/17 [==============================] - 4s 211ms/step - loss: 0.3905 - binary_accuracy: 0.8228 - val_loss: 0.5188 - val_binary_accuracy: 0.7652\n",
            "Epoch 77/20000\n",
            "17/17 [==============================] - 4s 209ms/step - loss: 0.3836 - binary_accuracy: 0.8250 - val_loss: 0.5005 - val_binary_accuracy: 0.7722\n",
            "Epoch 78/20000\n",
            "17/17 [==============================] - 4s 267ms/step - loss: 0.3828 - binary_accuracy: 0.8269 - val_loss: 0.4356 - val_binary_accuracy: 0.8265\n",
            "Epoch 79/20000\n",
            "17/17 [==============================] - 4s 215ms/step - loss: 0.3812 - binary_accuracy: 0.8303 - val_loss: 1.8784 - val_binary_accuracy: 0.5714\n",
            "Epoch 80/20000\n",
            "17/17 [==============================] - 4s 208ms/step - loss: 0.3864 - binary_accuracy: 0.8282 - val_loss: 3.3050 - val_binary_accuracy: 0.5360\n",
            "Epoch 81/20000\n",
            "17/17 [==============================] - 4s 211ms/step - loss: 0.3805 - binary_accuracy: 0.8283 - val_loss: 3.2911 - val_binary_accuracy: 0.5507\n",
            "Epoch 82/20000\n",
            "17/17 [==============================] - 4s 209ms/step - loss: 0.3858 - binary_accuracy: 0.8234 - val_loss: 0.5114 - val_binary_accuracy: 0.7687\n",
            "Epoch 83/20000\n",
            "17/17 [==============================] - 4s 211ms/step - loss: 0.3801 - binary_accuracy: 0.8327 - val_loss: 0.6430 - val_binary_accuracy: 0.6903\n",
            "Epoch 84/20000\n",
            "17/17 [==============================] - 4s 213ms/step - loss: 0.3768 - binary_accuracy: 0.8325 - val_loss: 0.4877 - val_binary_accuracy: 0.7806\n",
            "Epoch 85/20000\n",
            "17/17 [==============================] - 4s 210ms/step - loss: 0.3767 - binary_accuracy: 0.8322 - val_loss: 0.4299 - val_binary_accuracy: 0.8058\n",
            "Epoch 86/20000\n",
            "17/17 [==============================] - 4s 209ms/step - loss: 0.3770 - binary_accuracy: 0.8301 - val_loss: 0.7229 - val_binary_accuracy: 0.5969\n"
          ]
        }
      ]
    },
    {
      "cell_type": "code",
      "source": [
        "history_df = pd.DataFrame(history.history)\n",
        "# Start the plot at epoch 50\n",
        "history_df.loc[50:, ['loss', 'val_loss']].plot()\n",
        "history_df.loc[50:, ['binary_accuracy', 'val_binary_accuracy']].plot()\n",
        "\n",
        "print((\"Best Validation Loss: {:0.4f}\" +\\\n",
        "      \"\\nBest Validation Accuracy: {:0.4f}\")\\\n",
        "      .format(history_df['val_loss'].min(), \n",
        "              history_df['val_binary_accuracy'].max()))"
      ],
      "metadata": {
        "colab": {
          "base_uri": "https://localhost:8080/",
          "height": 549
        },
        "id": "jOoeUXrPEsri",
        "outputId": "94595925-4a3d-48ca-efdf-67898656b2e4"
      },
      "execution_count": null,
      "outputs": [
        {
          "output_type": "stream",
          "name": "stdout",
          "text": [
            "Best Validation Loss: 0.4046\n",
            "Best Validation Accuracy: 0.8265\n"
          ]
        },
        {
          "output_type": "display_data",
          "data": {
            "text/plain": [
              "<Figure size 432x288 with 1 Axes>"
            ],
            "image/png": "[encoded data removed]"
          },
          "metadata": {
            "needs_background": "light"
          }
        },
        {
          "output_type": "display_data",
          "data": {
            "text/plain": [
              "<Figure size 432x288 with 1 Axes>"
            ],
            "image/png": "[encoded data removed]"
          },
          "metadata": {
            "needs_background": "light"
          }
        }
      ]
    },
    {
      "cell_type": "markdown",
      "source": [
        "# MODEL 3"
      ],
      "metadata": {
        "id": "OwbXmyqtJqeJ"
      }
    },
    {
      "cell_type": "code",
      "source": [
        "from tensorflow.keras.models import Sequential\n",
        "class CNN(Sequential):\n",
        "    def __init__(self,nfilters,sfilters):\n",
        "        super().__init__()\n",
        "        tf.random.set_seed(0)\n",
        "        self.add(layers.Conv2D(nfilters[0],kernel_size=(sfilters[0],sfilters[0]),padding='same',activation='relu',input_shape=(112,92,1)))\n",
        "        self.add(layers.MaxPooling2D(pool_size=(2,2),strides=(2,2)))\n",
        "        self.add(layers.Conv2D(nfilters[1],kernel_size=(sfilters[1],sfilters[1]),padding='same',activation='relu'))\n",
        "        self.add(layers.MaxPooling2D(pool_size=(2,2),strides=(2,2)))\n",
        "        self.add(layers.Conv2D(nfilters[2],kernel_size=(sfilters[2],sfilters[2]),padding='same',activation='relu'))\n",
        "        self.add(layers.MaxPooling2D(pool_size=(2,2),strides=(2,2)))\n",
        "        self.add(layers.Flatten())\n",
        "        self.add(layers.Dropout(0.3))\n",
        "        self.add(layers.Dense(512,activation='relu'))\n",
        "        self.add(layers.Dense(40,activation='softmax'))\n",
        "        self.compile(optimizer='adam',loss='categorical_crossentropy',metrics=['accuracy'])\n",
        "        \n"
      ],
      "metadata": {
        "id": "9JSqvq2QJpi8"
      },
      "execution_count": null,
      "outputs": []
    },
    {
      "cell_type": "code",
      "source": [
        "def generate_population(pop_size,nlayers,max_nfilters,max_sfilters):\n",
        "    #Given the parameters returns randomly generated population\n",
        "    \n",
        "    np.random.seed(0)\n",
        "    pop_nlayers = np.random.randint(1,max_nfilters,(pop_size,nlayers))\n",
        "    pop_sfilters = np.random.randint(1,max_sfilters,(pop_size,nlayers))\n",
        "    pop_total = np.concatenate((pop_nlayers,pop_sfilters),axis=1)\n",
        "    return pop_total"
      ],
      "metadata": {
        "id": "d2U6zCJ1JG58"
      },
      "execution_count": null,
      "outputs": []
    },
    {
      "cell_type": "code",
      "source": [
        "def fitness(pop,X,Y,epochs):\n",
        "    pop_acc = []\n",
        "    for i in range(pop.shape[0]):\n",
        "        nfilters = pop[i][0:3]\n",
        "        sfilters = pop[i][3:]\n",
        "        model = CNN(nfilters,sfilters)\n",
        "        H = model.fit(X,Y,batch_size=32,epochs=epochs)\n",
        "        acc = H.history['accuracy']\n",
        "        pop_acc.append(max(acc))\n",
        "    return pop_acc"
      ],
      "metadata": {
        "id": "boidjKQnJH0x"
      },
      "execution_count": null,
      "outputs": []
    },
    {
      "cell_type": "code",
      "source": [
        "def select_parents(pop,nparents,fitness):\n",
        "    parents = np.zeros((nparents,pop.shape[1]))\n",
        "    for i in range(nparents):\n",
        "        best = np.argmax(fitness)\n",
        "        parents[i] = pop[best]\n",
        "        fitness[best] = -99999\n",
        "    return parents"
      ],
      "metadata": {
        "id": "MhCrrbpUJNEv"
      },
      "execution_count": null,
      "outputs": []
    },
    {
      "cell_type": "code",
      "source": [
        "def crossover(parents,pop_size):\n",
        "    nchild = pop_size - parents.shape[0]\n",
        "    nparents = parents.shape[0]\n",
        "    child = np.zeros((nchild,parents.shape[1]))\n",
        "    for i in range(nchild):\n",
        "        first = i % nparents\n",
        "        second = (i+1) % nparents\n",
        "        child[i,:2] = parents[first][:2]\n",
        "        child[i,2] = parents[second][2]\n",
        "        child[i,3:5] = parents[first][3:5]\n",
        "        child[i,5] = parents[second][5]\n",
        "    return child"
      ],
      "metadata": {
        "id": "jvSZaar1JUfM"
      },
      "execution_count": null,
      "outputs": []
    },
    {
      "cell_type": "code",
      "source": [
        "def mutation(child):\n",
        "    for i in range(child.shape[0]):\n",
        "        val = np.random.randint(1,6)\n",
        "        ind = np.random.randint(1,4) - 1\n",
        "        if child[i][ind] + val > 100:\n",
        "            child[i][ind] -= val\n",
        "        else:\n",
        "            child[i][ind] += val\n",
        "        val = np.random.randint(1,4)\n",
        "        ind = np.random.randint(4,7) - 1\n",
        "        if child[i][ind] + val > 20:\n",
        "            child[i][ind] -= val\n",
        "        else:\n",
        "            child[i][ind] += val\n",
        "    return child"
      ],
      "metadata": {
        "id": "CH4kY8nUJVZM"
      },
      "execution_count": null,
      "outputs": []
    },
    {
      "cell_type": "code",
      "source": [],
      "metadata": {
        "id": "KarqyMO7JYpr"
      },
      "execution_count": null,
      "outputs": []
    },
    {
      "cell_type": "code",
      "source": [
        "#genetic algorithm\n",
        "#import cnn\n",
        "import copy\n",
        "\n",
        "def population_as_vectors(population_networks):\n",
        "    population_vectors = []\n",
        "    for solution in population_networks:\n",
        "        # Converting the weights of single layer from the current CNN (i.e. solution) to a vector.\n",
        "        solution_weights_vector = cnn.layers_weights_as_vector(solution)\n",
        "        # Appending the weights vector of the current layer of a CNN (i.e. solution) to the weights of the previous layers of the same CNN (i.e. solution).\n",
        "        population_vectors.append(solution_weights_vector)\n",
        "\n",
        "    return population_vectors\n",
        "\n",
        "def population_as_matrices(population_networks, population_vectors):\n",
        "    population_matrices = []\n",
        "    for solution, solution_weights_vector in zip(population_networks, population_vectors):\n",
        "        # Converting the weights of single layer from the current CNN (i.e. solution) from a vector to a matrix.\n",
        "        solution_weights_matrix = cnn.layers_weights_as_matrix(solution, solution_weights_vector)\n",
        "        # Appending the weights matrix of the current layer of a CNN (i.e. solution) to the weights of the previous layers of the same network (i.e. solution).\n",
        "        population_matrices.append(solution_weights_matrix)\n",
        "\n",
        "    return population_matrices\n",
        "\n",
        "class GACNN:\n",
        "\n",
        "    def create_population(self):\n",
        "        population_networks = []\n",
        "        for solution in range(self.num_solutions):\n",
        "\n",
        "            network = copy.deepcopy(self.model)\n",
        "\n",
        "            # Appending the CNN model to the list of population networks.\n",
        "            population_networks.append(network)\n",
        "\n",
        "        return population_networks\n",
        "\n",
        "    def __init__(self, model, num_solutions):\n",
        "\n",
        "        self.model = model\n",
        "        self.num_solutions = num_solutions\n",
        "\n",
        "        # A list holding references to all the solutions (i.e. CNNs) used in the population.\n",
        "        self.population_networks = self.create_population()\n",
        "\n",
        "    def update_population_trained_weights(self, population_trained_weights):\n",
        "\n",
        "        idx = 0\n",
        "        # Fetches all layers weights matrices for a single solution (i.e. CNN)\n",
        "        for solution in self.population_networks:\n",
        "            # Calling the cnn.update_layers_trained_weights() function for updating the 'trained_weights' attribute for all layers in the current solution (i.e. CNN).\n",
        "            cnn.update_layers_trained_weights(model=solution, \n",
        "                                              final_weights=population_trained_weights[idx])\n",
        "            idx = idx + 1"
      ],
      "metadata": {
        "id": "9qwFWZguE0fr"
      },
      "execution_count": null,
      "outputs": []
    },
    {
      "cell_type": "code",
      "source": [
        "pip install pygad"
      ],
      "metadata": {
        "colab": {
          "base_uri": "https://localhost:8080/"
        },
        "id": "MMj-jlndqVYD",
        "outputId": "6ff18e7d-01c3-43fa-d900-d936414d1848"
      },
      "execution_count": null,
      "outputs": [
        {
          "output_type": "stream",
          "name": "stdout",
          "text": [
            "Looking in indexes: https://pypi.org/simple, https://us-python.pkg.dev/colab-wheels/public/simple/\n",
            "Collecting pygad\n",
            "  Downloading pygad-2.18.1-py3-none-any.whl (56 kB)\n",
            "\u001b[K     |████████████████████████████████| 56 kB 3.5 MB/s \n",
            "\u001b[?25hRequirement already satisfied: matplotlib in /usr/local/lib/python3.7/dist-packages (from pygad) (3.2.2)\n",
            "Requirement already satisfied: numpy in /usr/local/lib/python3.7/dist-packages (from pygad) (1.21.6)\n",
            "Requirement already satisfied: cycler>=0.10 in /usr/local/lib/python3.7/dist-packages (from matplotlib->pygad) (0.11.0)\n",
            "Requirement already satisfied: python-dateutil>=2.1 in /usr/local/lib/python3.7/dist-packages (from matplotlib->pygad) (2.8.2)\n",
            "Requirement already satisfied: kiwisolver>=1.0.1 in /usr/local/lib/python3.7/dist-packages (from matplotlib->pygad) (1.4.4)\n",
            "Requirement already satisfied: pyparsing!=2.0.4,!=2.1.2,!=2.1.6,>=2.0.1 in /usr/local/lib/python3.7/dist-packages (from matplotlib->pygad) (3.0.9)\n",
            "Requirement already satisfied: typing-extensions in /usr/local/lib/python3.7/dist-packages (from kiwisolver>=1.0.1->matplotlib->pygad) (4.1.1)\n",
            "Requirement already satisfied: six>=1.5 in /usr/local/lib/python3.7/dist-packages (from python-dateutil>=2.1->matplotlib->pygad) (1.15.0)\n",
            "Installing collected packages: pygad\n",
            "Successfully installed pygad-2.18.1\n"
          ]
        }
      ]
    },
    {
      "cell_type": "code",
      "source": [
        "import numpy\n",
        "import pygad.cnn\n",
        "import pygad.gacnn\n",
        "import pygad\n",
        "\n"
      ],
      "metadata": {
        "id": "qAd5GcbSqM5v"
      },
      "execution_count": null,
      "outputs": []
    },
    {
      "cell_type": "code",
      "source": [
        "GACNN_instance = pygad.gacnn.GACNN(model=model_1,num_solutions=4)\n",
        "population_vectors = pygad.gacnn.population_as_vectors(population_networks=GACNN_instance.population_networks)\n",
        "\n",
        "initial_population = population_vectors.copy()\n",
        "\n",
        "num_parents_mating = 2 # Number of solutions to be selected as parents in the mating pool.\n",
        "\n",
        "num_generations = 10 # Number of generations.\n",
        "\n",
        "mutation_percent_genes = 0.1 # Percentage of genes to mutate. This parameter has no action if the parameter mutation_num_genes exists.\n",
        "\n",
        "parent_selection_type = \"sss\" # Type of parent selection.\n",
        "\n",
        "crossover_type = \"single_point\" # Type of the crossover operator.\n",
        "\n",
        "mutation_type = \"random\" # Type of the mutation operator.\n",
        "\n",
        "keep_parents = -1"
      ],
      "metadata": {
        "colab": {
          "base_uri": "https://localhost:8080/",
          "height": 392
        },
        "id": "OL9sk7jbqaXQ",
        "outputId": "7cb3ddd0-4259-4ab7-93ce-03e949db6cd1"
      },
      "execution_count": null,
      "outputs": [
        {
          "output_type": "error",
          "ename": "AttributeError",
          "evalue": "ignored",
          "traceback": [
            "\u001b[0;31m---------------------------------------------------------------------------\u001b[0m",
            "\u001b[0;31mAttributeError\u001b[0m                            Traceback (most recent call last)",
            "\u001b[0;32m<ipython-input-28-27c464e53850>\u001b[0m in \u001b[0;36m<module>\u001b[0;34m\u001b[0m\n\u001b[1;32m      1\u001b[0m \u001b[0mGACNN_instance\u001b[0m \u001b[0;34m=\u001b[0m \u001b[0mpygad\u001b[0m\u001b[0;34m.\u001b[0m\u001b[0mgacnn\u001b[0m\u001b[0;34m.\u001b[0m\u001b[0mGACNN\u001b[0m\u001b[0;34m(\u001b[0m\u001b[0mmodel\u001b[0m\u001b[0;34m=\u001b[0m\u001b[0mmodel_1\u001b[0m\u001b[0;34m,\u001b[0m\u001b[0mnum_solutions\u001b[0m\u001b[0;34m=\u001b[0m\u001b[0;36m4\u001b[0m\u001b[0;34m)\u001b[0m\u001b[0;34m\u001b[0m\u001b[0;34m\u001b[0m\u001b[0m\n\u001b[0;32m----> 2\u001b[0;31m \u001b[0mpopulation_vectors\u001b[0m \u001b[0;34m=\u001b[0m \u001b[0mpygad\u001b[0m\u001b[0;34m.\u001b[0m\u001b[0mgacnn\u001b[0m\u001b[0;34m.\u001b[0m\u001b[0mpopulation_as_vectors\u001b[0m\u001b[0;34m(\u001b[0m\u001b[0mpopulation_networks\u001b[0m\u001b[0;34m=\u001b[0m\u001b[0mGACNN_instance\u001b[0m\u001b[0;34m.\u001b[0m\u001b[0mpopulation_networks\u001b[0m\u001b[0;34m)\u001b[0m\u001b[0;34m\u001b[0m\u001b[0;34m\u001b[0m\u001b[0m\n\u001b[0m\u001b[1;32m      3\u001b[0m \u001b[0;34m\u001b[0m\u001b[0m\n\u001b[1;32m      4\u001b[0m \u001b[0minitial_population\u001b[0m \u001b[0;34m=\u001b[0m \u001b[0mpopulation_vectors\u001b[0m\u001b[0;34m.\u001b[0m\u001b[0mcopy\u001b[0m\u001b[0;34m(\u001b[0m\u001b[0;34m)\u001b[0m\u001b[0;34m\u001b[0m\u001b[0;34m\u001b[0m\u001b[0m\n\u001b[1;32m      5\u001b[0m \u001b[0;34m\u001b[0m\u001b[0m\n",
            "\u001b[0;32m/usr/local/lib/python3.7/dist-packages/pygad/gacnn/gacnn.py\u001b[0m in \u001b[0;36mpopulation_as_vectors\u001b[0;34m(population_networks)\u001b[0m\n\u001b[1;32m     16\u001b[0m     \u001b[0;32mfor\u001b[0m \u001b[0msolution\u001b[0m \u001b[0;32min\u001b[0m \u001b[0mpopulation_networks\u001b[0m\u001b[0;34m:\u001b[0m\u001b[0;34m\u001b[0m\u001b[0;34m\u001b[0m\u001b[0m\n\u001b[1;32m     17\u001b[0m         \u001b[0;31m# Converting the weights of single layer from the current CNN (i.e. solution) to a vector.\u001b[0m\u001b[0;34m\u001b[0m\u001b[0;34m\u001b[0m\u001b[0;34m\u001b[0m\u001b[0m\n\u001b[0;32m---> 18\u001b[0;31m         \u001b[0msolution_weights_vector\u001b[0m \u001b[0;34m=\u001b[0m \u001b[0mcnn\u001b[0m\u001b[0;34m.\u001b[0m\u001b[0mlayers_weights_as_vector\u001b[0m\u001b[0;34m(\u001b[0m\u001b[0msolution\u001b[0m\u001b[0;34m)\u001b[0m\u001b[0;34m\u001b[0m\u001b[0;34m\u001b[0m\u001b[0m\n\u001b[0m\u001b[1;32m     19\u001b[0m         \u001b[0;31m# Appending the weights vector of the current layer of a CNN (i.e. solution) to the weights of the previous layers of the same CNN (i.e. solution).\u001b[0m\u001b[0;34m\u001b[0m\u001b[0;34m\u001b[0m\u001b[0;34m\u001b[0m\u001b[0m\n\u001b[1;32m     20\u001b[0m         \u001b[0mpopulation_vectors\u001b[0m\u001b[0;34m.\u001b[0m\u001b[0mappend\u001b[0m\u001b[0;34m(\u001b[0m\u001b[0msolution_weights_vector\u001b[0m\u001b[0;34m)\u001b[0m\u001b[0;34m\u001b[0m\u001b[0;34m\u001b[0m\u001b[0m\n",
            "\u001b[0;32m/usr/local/lib/python3.7/dist-packages/pygad/cnn/cnn.py\u001b[0m in \u001b[0;36mlayers_weights_as_vector\u001b[0;34m(model, initial)\u001b[0m\n\u001b[1;32m    152\u001b[0m     \u001b[0mnetwork_weights\u001b[0m \u001b[0;34m=\u001b[0m \u001b[0;34m[\u001b[0m\u001b[0;34m]\u001b[0m\u001b[0;34m\u001b[0m\u001b[0;34m\u001b[0m\u001b[0m\n\u001b[1;32m    153\u001b[0m \u001b[0;34m\u001b[0m\u001b[0m\n\u001b[0;32m--> 154\u001b[0;31m     \u001b[0mlayer\u001b[0m \u001b[0;34m=\u001b[0m \u001b[0mmodel\u001b[0m\u001b[0;34m.\u001b[0m\u001b[0mlast_layer\u001b[0m\u001b[0;34m\u001b[0m\u001b[0;34m\u001b[0m\u001b[0m\n\u001b[0m\u001b[1;32m    155\u001b[0m     \u001b[0;32mwhile\u001b[0m \u001b[0;34m\"previous_layer\"\u001b[0m \u001b[0;32min\u001b[0m \u001b[0mlayer\u001b[0m\u001b[0;34m.\u001b[0m\u001b[0m__init__\u001b[0m\u001b[0;34m.\u001b[0m\u001b[0m__code__\u001b[0m\u001b[0;34m.\u001b[0m\u001b[0mco_varnames\u001b[0m\u001b[0;34m:\u001b[0m\u001b[0;34m\u001b[0m\u001b[0;34m\u001b[0m\u001b[0m\n\u001b[1;32m    156\u001b[0m         \u001b[0;32mif\u001b[0m \u001b[0mtype\u001b[0m\u001b[0;34m(\u001b[0m\u001b[0mlayer\u001b[0m\u001b[0;34m)\u001b[0m \u001b[0;32min\u001b[0m \u001b[0;34m[\u001b[0m\u001b[0mConv2D\u001b[0m\u001b[0;34m,\u001b[0m \u001b[0mDense\u001b[0m\u001b[0;34m]\u001b[0m\u001b[0;34m:\u001b[0m\u001b[0;34m\u001b[0m\u001b[0;34m\u001b[0m\u001b[0m\n",
            "\u001b[0;31mAttributeError\u001b[0m: 'Sequential' object has no attribute 'last_layer'"
          ]
        }
      ]
    },
    {
      "cell_type": "code",
      "source": [
        "n_folds=3\n",
        "epochs=20\n",
        "batch_size=128\n",
        "\n",
        "#save the model history in a list after fitting so that we can plot later\n",
        "model_history = [] \n",
        "\n",
        "for i in range(n_folds):\n",
        "    print(\"Training on Fold: \",i+1)\n",
        "    t_x, val_x, t_y, val_y = train_test_split(train_x, train_y, test_size=0.1, random_state = np.random.randint(1,1000, 1)[0])\n",
        "    model_history.append(fit_and_evaluate(t_x, val_x, t_y, val_y, epochs, batch_size))\n",
        "    print(\"=======\"*12, end=\"\\n\\n\\n\")"
      ],
      "metadata": {
        "id": "s-H27YSiAnf2"
      },
      "execution_count": null,
      "outputs": []
    }
  ]
}